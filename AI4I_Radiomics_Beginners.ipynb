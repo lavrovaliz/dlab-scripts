{
  "nbformat": 4,
  "nbformat_minor": 0,
  "metadata": {
    "colab": {
      "name": "AI4I_Radiomics_Beginners.ipynb",
      "provenance": [],
      "collapsed_sections": [],
      "authorship_tag": "ABX9TyMdtbIo9nTGr1YU876hyDaa",
      "include_colab_link": true
    },
    "kernelspec": {
      "name": "python3",
      "display_name": "Python 3"
    },
    "language_info": {
      "name": "python"
    }
  },
  "cells": [
    {
      "cell_type": "markdown",
      "metadata": {
        "id": "view-in-github",
        "colab_type": "text"
      },
      "source": [
        "<a href=\"https://colab.research.google.com/github/lavrovaliz/dlab-scripts/blob/main/AI4I_Radiomics_Beginners.ipynb\" target=\"_parent\"><img src=\"https://colab.research.google.com/assets/colab-badge.svg\" alt=\"Open In Colab\"/></a>"
      ]
    },
    {
      "cell_type": "markdown",
      "source": [
        "# Radiomics for beginners\n",
        "  \n",
        "<b>'Data curation is the most laborious and boring step of the radiomics workflow' - anyone who has ever worked with radiomics</b>\n",
        "\n",
        "## Introduction\n",
        "\n",
        "In this script, you will use an open-source dataset of 422 NSCLC cancer patients named NSCLC Radiomics in TCIA https://wiki.cancerimagingarchive.net/display/Public/NSCLC-Radiomics, also known as MAASTRO-Lung-1 (Aerts, H. J. W. L., Wee, L., Rios Velazquez, E., Leijenaar, R. T. H., Parmar, C., Grossmann, P., Carvalho, S., Bussink, J., Monshouwer, R., Haibe-Kains, B., Rietveld, D., Hoebers, F., Rietbergen, M. M., Leemans, C. R., Dekker, A., Quackenbush, J., Gillies, R. J., Lambin, P. (2019). Data From NSCLC-Radiomics [Data set]. The Cancer Imaging Archive. https://doi.org/10.7937/K9/TCIA.2015.PF0M9REI), Attribution-NonCommercial 3.0 Unported license (https://creativecommons.org/licenses/by-nc/3.0/). You will build a classifier to differentiate contast-enhanced from non-contrast-enhanced lung CT scans using radiomic features extracted from the GTV. Incredibly, these data were originally (and still are) used without this differentiation, leading to poor model performance for clinical outcomes. Such classifying models can easily help you curate your dataset or add a new label to your list of predictors.\n",
        "\n",
        "<b>Brief description</b>\n",
        "\n",
        "Iodinated contrast agents can be used for obtaining a CT image depending on the clinical question that one wants to address. The purpose of such agents can be to enhance the contrast resolution between a lesion/ischemic or occluded region and the normally perfused surrounding tissues. \n",
        "Sometimes contrast-enhanced CT is desireable, though the patient has an absolute contra-indication for contrast, such as: \n",
        "* allergy to intravenous contrast media, \n",
        "* pregnancy (particularly in the first trimester), \n",
        "* severe renal impairment,\n",
        "* hyperthyroidism/goitre (IV contrast might induce thyrotoxic crisis), etc.    \n",
        "\n",
        "The task of assessing whether an image is contrast-enhanced is <b>fairly easy in early/late arterial phases</b> (major arteries appear as hyperdense, white structures immediately after contrast bolus is administered through a peripheral vein), but may become <b>more challenging in the late portal phase</b> (blood supply from arteries reaches the liver and from there goes back into the venous system through the portal vein) and delayed venous phases (most contrast washes out from the tissue and is filtered through the kidneys).<br>  \n",
        "\n",
        "| ![picture](https://drive.google.com/uc?export=view&id=1w288Lda5tI6_4sy3sFepgGX4HB0YYm-z)      | ![picture](https://drive.google.com/uc?export=view&id=1Kw47_0GUdvFwPjvjcGW588SGMXuV9TpF)                                                                                         |\n",
        "|:-----------------------------------------------------------------------------------------------:|:----------------------------------------------------------------------------------------------------------------------------------------------------------------------------------:|\n",
        "| Patient without contrast-enhancement and with a mass in the right upper lobe<br>(red circle) | Patient with contrast enhancement (upper red circle); <br>both the major chambers/arteries of the heart as well as the aorta (arrow) <br>appear as hyperdense white structures |\n",
        "\n",
        "<b>Problem</b>  \n",
        "\n",
        "Usually information about the contrast is <b>not included in the DICOM tags</b>, and manual assesment of the CT for the purpose of the data curation can take considerable time. In this task, we are adressing this problem by using radiomics of the GTV to classify the images. The ground truth labelling was performed by a radiology expert. \n",
        "\n",
        "<b>Notebook structure</b>  \n",
        "\n",
        "This Python script will take you through the radiomics analysis steps where you'll learn how to read in the features, select the features, train the models and display the results:\n",
        " - installing packages and importing libraries,  \n",
        " - preparation of the imaging data,\n",
        " - features extraction,\n",
        " - reading the data and assigning outcomes, \n",
        " - exploring the data, \n",
        " - removing highly correlated features, \n",
        " - selecting features using recursive feature elimination, \n",
        " - creating the classification models, displaying the results.\n",
        "\n",
        "## Getting started\n",
        "\n",
        "This is an interactive Python notebook. To run it, you don't need to install anything on your PC since the script is executed in the cloud. On the left tab, you can see the 'Files' folder, that contains the data. Results of the script execution will be saved in this folder.  \n",
        "  \n",
        "The curated imaging dataset is available in the shared Google folder: https://drive.google.com/drive/folders/1R1ipuVU_3Deqr9Lqp_4G8qVZxBEuLMDw?usp=sharing. The dataset is open-source, so you can download the data to have a look at it. It you don't have any software to open DICOM files, you can download and install 3D Slicer (https://www.slicer.org/), RadiAnt viewer (https://www.radiantviewer.com/), or MicroDicom viewer (https://www.microdicom.com/downloads.html). As feature extraction process takes time, we prepared the .csv tables with the pre-extracted features to work with. They are available at the same shared folder. To make the folder accessable for your notebook, right-click it and select 'Add to My Drive'. In the pop-up window, put the label into 'My Drive' location. After mounting your Google Drive (will be explained later), you will have an access to these files.\n",
        "\n",
        "Please note, that all the files you upload to this notebook as well as the files, produced while executing the script, are automatically deleted as soon as you end the session. The .csv tables of the pre-extracted features are available in this notebook.\n",
        "\n",
        "First of all, the needed Python packages have to be uploaded. Some of them are not installed in the environment of this notebook, so the installation is needed with '!pip install <i>name-of-the-package</i>' command. We recommend you get acquainted with getting documentation and help on these packages. For example, google 'python sklearn' and you will get to the documentation quickly. Importing libraries is a necessary step with most progamming languages, not only Python."
      ],
      "metadata": {
        "id": "XiGMHG8iYoWV"
      }
    },
    {
      "cell_type": "code",
      "source": [
        "# installing some packages, which are not part of the present Google Collab environment\n",
        "\n",
        "!pip install precision-medicine-toolbox"
      ],
      "metadata": {
        "colab": {
          "base_uri": "https://localhost:8080/"
        },
        "id": "60z4gB0WdAnj",
        "outputId": "eb0cefd7-cc1b-443d-cc06-59e1f53f0c26"
      },
      "execution_count": 2,
      "outputs": [
        {
          "output_type": "stream",
          "name": "stdout",
          "text": [
            "Looking in indexes: https://pypi.org/simple, https://us-python.pkg.dev/colab-wheels/public/simple/\n",
            "Requirement already satisfied: precision-medicine-toolbox in /usr/local/lib/python3.7/dist-packages (0.2)\n",
            "Requirement already satisfied: scipy in /usr/local/lib/python3.7/dist-packages (from precision-medicine-toolbox) (1.4.1)\n",
            "Requirement already satisfied: opencv-python in /usr/local/lib/python3.7/dist-packages (from precision-medicine-toolbox) (4.1.2.30)\n",
            "Requirement already satisfied: matplotlib in /usr/local/lib/python3.7/dist-packages (from precision-medicine-toolbox) (3.2.2)\n",
            "Requirement already satisfied: pykwalify in /usr/local/lib/python3.7/dist-packages (from precision-medicine-toolbox) (1.8.0)\n",
            "Requirement already satisfied: pandas in /usr/local/lib/python3.7/dist-packages (from precision-medicine-toolbox) (1.3.5)\n",
            "Requirement already satisfied: six in /usr/local/lib/python3.7/dist-packages (from precision-medicine-toolbox) (1.15.0)\n",
            "Requirement already satisfied: plotly in /usr/local/lib/python3.7/dist-packages (from precision-medicine-toolbox) (5.5.0)\n",
            "Requirement already satisfied: pyradiomics in /usr/local/lib/python3.7/dist-packages (from precision-medicine-toolbox) (3.0.1)\n",
            "Requirement already satisfied: tqdm in /usr/local/lib/python3.7/dist-packages (from precision-medicine-toolbox) (4.64.0)\n",
            "Requirement already satisfied: scikit-image in /usr/local/lib/python3.7/dist-packages (from precision-medicine-toolbox) (0.18.3)\n",
            "Requirement already satisfied: mkdocstrings in /usr/local/lib/python3.7/dist-packages (from precision-medicine-toolbox) (0.19.0)\n",
            "Requirement already satisfied: Pillow in /usr/local/lib/python3.7/dist-packages (from precision-medicine-toolbox) (7.1.2)\n",
            "Requirement already satisfied: scikit-learn in /usr/local/lib/python3.7/dist-packages (from precision-medicine-toolbox) (1.0.2)\n",
            "Requirement already satisfied: SimpleITK in /usr/local/lib/python3.7/dist-packages (from precision-medicine-toolbox) (2.1.1.2)\n",
            "Requirement already satisfied: pydicom in /usr/local/lib/python3.7/dist-packages (from precision-medicine-toolbox) (2.3.0)\n",
            "Requirement already satisfied: statsmodels in /usr/local/lib/python3.7/dist-packages (from precision-medicine-toolbox) (0.10.2)\n",
            "Requirement already satisfied: PyWavelets in /usr/local/lib/python3.7/dist-packages (from precision-medicine-toolbox) (1.3.0)\n",
            "Requirement already satisfied: ipywidgets in /usr/local/lib/python3.7/dist-packages (from precision-medicine-toolbox) (7.7.0)\n",
            "Requirement already satisfied: widgetsnbextension~=3.6.0 in /usr/local/lib/python3.7/dist-packages (from ipywidgets->precision-medicine-toolbox) (3.6.0)\n",
            "Requirement already satisfied: ipykernel>=4.5.1 in /usr/local/lib/python3.7/dist-packages (from ipywidgets->precision-medicine-toolbox) (4.10.1)\n",
            "Requirement already satisfied: ipython>=4.0.0 in /usr/local/lib/python3.7/dist-packages (from ipywidgets->precision-medicine-toolbox) (5.5.0)\n",
            "Requirement already satisfied: ipython-genutils~=0.2.0 in /usr/local/lib/python3.7/dist-packages (from ipywidgets->precision-medicine-toolbox) (0.2.0)\n",
            "Requirement already satisfied: nbformat>=4.2.0 in /usr/local/lib/python3.7/dist-packages (from ipywidgets->precision-medicine-toolbox) (5.4.0)\n",
            "Requirement already satisfied: jupyterlab-widgets>=1.0.0 in /usr/local/lib/python3.7/dist-packages (from ipywidgets->precision-medicine-toolbox) (1.1.0)\n",
            "Requirement already satisfied: traitlets>=4.3.1 in /usr/local/lib/python3.7/dist-packages (from ipywidgets->precision-medicine-toolbox) (5.1.1)\n",
            "Requirement already satisfied: jupyter-client in /usr/local/lib/python3.7/dist-packages (from ipykernel>=4.5.1->ipywidgets->precision-medicine-toolbox) (5.3.5)\n",
            "Requirement already satisfied: tornado>=4.0 in /usr/local/lib/python3.7/dist-packages (from ipykernel>=4.5.1->ipywidgets->precision-medicine-toolbox) (5.1.1)\n",
            "Requirement already satisfied: prompt-toolkit<2.0.0,>=1.0.4 in /usr/local/lib/python3.7/dist-packages (from ipython>=4.0.0->ipywidgets->precision-medicine-toolbox) (1.0.18)\n",
            "Requirement already satisfied: decorator in /usr/local/lib/python3.7/dist-packages (from ipython>=4.0.0->ipywidgets->precision-medicine-toolbox) (4.4.2)\n",
            "Requirement already satisfied: simplegeneric>0.8 in /usr/local/lib/python3.7/dist-packages (from ipython>=4.0.0->ipywidgets->precision-medicine-toolbox) (0.8.1)\n",
            "Requirement already satisfied: setuptools>=18.5 in /usr/local/lib/python3.7/dist-packages (from ipython>=4.0.0->ipywidgets->precision-medicine-toolbox) (57.4.0)\n",
            "Requirement already satisfied: pickleshare in /usr/local/lib/python3.7/dist-packages (from ipython>=4.0.0->ipywidgets->precision-medicine-toolbox) (0.7.5)\n",
            "Requirement already satisfied: pexpect in /usr/local/lib/python3.7/dist-packages (from ipython>=4.0.0->ipywidgets->precision-medicine-toolbox) (4.8.0)\n",
            "Requirement already satisfied: pygments in /usr/local/lib/python3.7/dist-packages (from ipython>=4.0.0->ipywidgets->precision-medicine-toolbox) (2.6.1)\n",
            "Requirement already satisfied: fastjsonschema in /usr/local/lib/python3.7/dist-packages (from nbformat>=4.2.0->ipywidgets->precision-medicine-toolbox) (2.15.3)\n",
            "Requirement already satisfied: jupyter-core in /usr/local/lib/python3.7/dist-packages (from nbformat>=4.2.0->ipywidgets->precision-medicine-toolbox) (4.10.0)\n",
            "Requirement already satisfied: jsonschema>=2.6 in /usr/local/lib/python3.7/dist-packages (from nbformat>=4.2.0->ipywidgets->precision-medicine-toolbox) (4.3.3)\n",
            "Requirement already satisfied: attrs>=17.4.0 in /usr/local/lib/python3.7/dist-packages (from jsonschema>=2.6->nbformat>=4.2.0->ipywidgets->precision-medicine-toolbox) (21.4.0)\n",
            "Requirement already satisfied: importlib-resources>=1.4.0 in /usr/local/lib/python3.7/dist-packages (from jsonschema>=2.6->nbformat>=4.2.0->ipywidgets->precision-medicine-toolbox) (5.7.1)\n",
            "Requirement already satisfied: typing-extensions in /usr/local/lib/python3.7/dist-packages (from jsonschema>=2.6->nbformat>=4.2.0->ipywidgets->precision-medicine-toolbox) (4.2.0)\n",
            "Requirement already satisfied: importlib-metadata in /usr/local/lib/python3.7/dist-packages (from jsonschema>=2.6->nbformat>=4.2.0->ipywidgets->precision-medicine-toolbox) (4.11.4)\n",
            "Requirement already satisfied: pyrsistent!=0.17.0,!=0.17.1,!=0.17.2,>=0.14.0 in /usr/local/lib/python3.7/dist-packages (from jsonschema>=2.6->nbformat>=4.2.0->ipywidgets->precision-medicine-toolbox) (0.18.1)\n",
            "Requirement already satisfied: zipp>=3.1.0 in /usr/local/lib/python3.7/dist-packages (from importlib-resources>=1.4.0->jsonschema>=2.6->nbformat>=4.2.0->ipywidgets->precision-medicine-toolbox) (3.8.0)\n",
            "Requirement already satisfied: wcwidth in /usr/local/lib/python3.7/dist-packages (from prompt-toolkit<2.0.0,>=1.0.4->ipython>=4.0.0->ipywidgets->precision-medicine-toolbox) (0.2.5)\n",
            "Requirement already satisfied: notebook>=4.4.1 in /usr/local/lib/python3.7/dist-packages (from widgetsnbextension~=3.6.0->ipywidgets->precision-medicine-toolbox) (5.3.1)\n",
            "Requirement already satisfied: jinja2 in /usr/local/lib/python3.7/dist-packages (from notebook>=4.4.1->widgetsnbextension~=3.6.0->ipywidgets->precision-medicine-toolbox) (2.11.3)\n",
            "Requirement already satisfied: terminado>=0.8.1 in /usr/local/lib/python3.7/dist-packages (from notebook>=4.4.1->widgetsnbextension~=3.6.0->ipywidgets->precision-medicine-toolbox) (0.13.3)\n",
            "Requirement already satisfied: Send2Trash in /usr/local/lib/python3.7/dist-packages (from notebook>=4.4.1->widgetsnbextension~=3.6.0->ipywidgets->precision-medicine-toolbox) (1.8.0)\n",
            "Requirement already satisfied: nbconvert in /usr/local/lib/python3.7/dist-packages (from notebook>=4.4.1->widgetsnbextension~=3.6.0->ipywidgets->precision-medicine-toolbox) (5.6.1)\n",
            "Requirement already satisfied: python-dateutil>=2.1 in /usr/local/lib/python3.7/dist-packages (from jupyter-client->ipykernel>=4.5.1->ipywidgets->precision-medicine-toolbox) (2.8.2)\n",
            "Requirement already satisfied: pyzmq>=13 in /usr/local/lib/python3.7/dist-packages (from jupyter-client->ipykernel>=4.5.1->ipywidgets->precision-medicine-toolbox) (23.1.0)\n",
            "Requirement already satisfied: ptyprocess in /usr/local/lib/python3.7/dist-packages (from terminado>=0.8.1->notebook>=4.4.1->widgetsnbextension~=3.6.0->ipywidgets->precision-medicine-toolbox) (0.7.0)\n",
            "Requirement already satisfied: MarkupSafe>=0.23 in /usr/local/lib/python3.7/dist-packages (from jinja2->notebook>=4.4.1->widgetsnbextension~=3.6.0->ipywidgets->precision-medicine-toolbox) (2.0.1)\n",
            "Requirement already satisfied: pyparsing!=2.0.4,!=2.1.2,!=2.1.6,>=2.0.1 in /usr/local/lib/python3.7/dist-packages (from matplotlib->precision-medicine-toolbox) (3.0.9)\n",
            "Requirement already satisfied: cycler>=0.10 in /usr/local/lib/python3.7/dist-packages (from matplotlib->precision-medicine-toolbox) (0.11.0)\n",
            "Requirement already satisfied: kiwisolver>=1.0.1 in /usr/local/lib/python3.7/dist-packages (from matplotlib->precision-medicine-toolbox) (1.4.2)\n",
            "Requirement already satisfied: numpy>=1.11 in /usr/local/lib/python3.7/dist-packages (from matplotlib->precision-medicine-toolbox) (1.21.6)\n",
            "Requirement already satisfied: mkdocs>=1.2 in /usr/local/lib/python3.7/dist-packages (from mkdocstrings->precision-medicine-toolbox) (1.3.0)\n",
            "Requirement already satisfied: pymdown-extensions>=6.3 in /usr/local/lib/python3.7/dist-packages (from mkdocstrings->precision-medicine-toolbox) (9.5)\n",
            "Requirement already satisfied: mkdocs-autorefs>=0.3.1 in /usr/local/lib/python3.7/dist-packages (from mkdocstrings->precision-medicine-toolbox) (0.4.1)\n",
            "Requirement already satisfied: Markdown>=3.3 in /usr/local/lib/python3.7/dist-packages (from mkdocstrings->precision-medicine-toolbox) (3.3.7)\n",
            "Requirement already satisfied: watchdog>=2.0 in /usr/local/lib/python3.7/dist-packages (from mkdocs>=1.2->mkdocstrings->precision-medicine-toolbox) (2.1.9)\n",
            "Requirement already satisfied: pyyaml-env-tag>=0.1 in /usr/local/lib/python3.7/dist-packages (from mkdocs>=1.2->mkdocstrings->precision-medicine-toolbox) (0.1)\n",
            "Requirement already satisfied: click>=3.3 in /usr/local/lib/python3.7/dist-packages (from mkdocs>=1.2->mkdocstrings->precision-medicine-toolbox) (7.1.2)\n",
            "Requirement already satisfied: mergedeep>=1.3.4 in /usr/local/lib/python3.7/dist-packages (from mkdocs>=1.2->mkdocstrings->precision-medicine-toolbox) (1.3.4)\n",
            "Requirement already satisfied: ghp-import>=1.0 in /usr/local/lib/python3.7/dist-packages (from mkdocs>=1.2->mkdocstrings->precision-medicine-toolbox) (2.1.0)\n",
            "Requirement already satisfied: PyYAML>=3.10 in /usr/local/lib/python3.7/dist-packages (from mkdocs>=1.2->mkdocstrings->precision-medicine-toolbox) (3.13)\n",
            "Requirement already satisfied: packaging>=20.5 in /usr/local/lib/python3.7/dist-packages (from mkdocs>=1.2->mkdocstrings->precision-medicine-toolbox) (21.3)\n",
            "Requirement already satisfied: mistune<2,>=0.8.1 in /usr/local/lib/python3.7/dist-packages (from nbconvert->notebook>=4.4.1->widgetsnbextension~=3.6.0->ipywidgets->precision-medicine-toolbox) (0.8.4)\n",
            "Requirement already satisfied: testpath in /usr/local/lib/python3.7/dist-packages (from nbconvert->notebook>=4.4.1->widgetsnbextension~=3.6.0->ipywidgets->precision-medicine-toolbox) (0.6.0)\n",
            "Requirement already satisfied: pandocfilters>=1.4.1 in /usr/local/lib/python3.7/dist-packages (from nbconvert->notebook>=4.4.1->widgetsnbextension~=3.6.0->ipywidgets->precision-medicine-toolbox) (1.5.0)\n",
            "Requirement already satisfied: defusedxml in /usr/local/lib/python3.7/dist-packages (from nbconvert->notebook>=4.4.1->widgetsnbextension~=3.6.0->ipywidgets->precision-medicine-toolbox) (0.7.1)\n",
            "Requirement already satisfied: entrypoints>=0.2.2 in /usr/local/lib/python3.7/dist-packages (from nbconvert->notebook>=4.4.1->widgetsnbextension~=3.6.0->ipywidgets->precision-medicine-toolbox) (0.4)\n",
            "Requirement already satisfied: bleach in /usr/local/lib/python3.7/dist-packages (from nbconvert->notebook>=4.4.1->widgetsnbextension~=3.6.0->ipywidgets->precision-medicine-toolbox) (5.0.0)\n",
            "Requirement already satisfied: webencodings in /usr/local/lib/python3.7/dist-packages (from bleach->nbconvert->notebook>=4.4.1->widgetsnbextension~=3.6.0->ipywidgets->precision-medicine-toolbox) (0.5.1)\n",
            "Requirement already satisfied: pytz>=2017.3 in /usr/local/lib/python3.7/dist-packages (from pandas->precision-medicine-toolbox) (2022.1)\n",
            "Requirement already satisfied: tenacity>=6.2.0 in /usr/local/lib/python3.7/dist-packages (from plotly->precision-medicine-toolbox) (8.0.1)\n",
            "Requirement already satisfied: ruamel.yaml>=0.16.0 in /usr/local/lib/python3.7/dist-packages (from pykwalify->precision-medicine-toolbox) (0.17.21)\n",
            "Requirement already satisfied: docopt>=0.6.2 in /usr/local/lib/python3.7/dist-packages (from pykwalify->precision-medicine-toolbox) (0.6.2)\n",
            "Requirement already satisfied: ruamel.yaml.clib>=0.2.6 in /usr/local/lib/python3.7/dist-packages (from ruamel.yaml>=0.16.0->pykwalify->precision-medicine-toolbox) (0.2.6)\n",
            "Requirement already satisfied: imageio>=2.3.0 in /usr/local/lib/python3.7/dist-packages (from scikit-image->precision-medicine-toolbox) (2.4.1)\n",
            "Requirement already satisfied: networkx>=2.0 in /usr/local/lib/python3.7/dist-packages (from scikit-image->precision-medicine-toolbox) (2.6.3)\n",
            "Requirement already satisfied: tifffile>=2019.7.26 in /usr/local/lib/python3.7/dist-packages (from scikit-image->precision-medicine-toolbox) (2021.11.2)\n",
            "Requirement already satisfied: joblib>=0.11 in /usr/local/lib/python3.7/dist-packages (from scikit-learn->precision-medicine-toolbox) (1.1.0)\n",
            "Requirement already satisfied: threadpoolctl>=2.0.0 in /usr/local/lib/python3.7/dist-packages (from scikit-learn->precision-medicine-toolbox) (3.1.0)\n",
            "Requirement already satisfied: patsy>=0.4.0 in /usr/local/lib/python3.7/dist-packages (from statsmodels->precision-medicine-toolbox) (0.5.2)\n"
          ]
        }
      ]
    },
    {
      "cell_type": "code",
      "execution_count": 3,
      "metadata": {
        "colab": {
          "base_uri": "https://localhost:8080/"
        },
        "id": "AwuI_iH4UELF",
        "outputId": "62998876-f33f-44ca-898f-0c53fdb56764"
      },
      "outputs": [
        {
          "output_type": "stream",
          "name": "stderr",
          "text": [
            "/usr/local/lib/python3.7/dist-packages/statsmodels/tools/_testing.py:19: FutureWarning: pandas.util.testing is deprecated. Use the functions in the public API at pandas.testing instead.\n",
            "  import pandas.util.testing as tm\n"
          ]
        }
      ],
      "source": [
        "import os\n",
        "import numpy as np\n",
        "import pandas as pd\n",
        "from pmtool.AnalysisBox import AnalysisBox\n",
        "from pmtool.ToolBox import ToolBox\n",
        "import matplotlib.pyplot as plt \n",
        "import seaborn as sns\n",
        "from sklearn.feature_selection import RFE\n",
        "from sklearn.ensemble import RandomForestClassifier\n",
        "from sklearn.metrics import balanced_accuracy_score, classification_report, confusion_matrix, roc_curve, roc_auc_score\n",
        "import seaborn as sns\n",
        "import xgboost as xgb\n",
        "\n"
      ]
    },
    {
      "cell_type": "markdown",
      "source": [
        "## Feature extraction\n",
        "There are many softwares to perform this step, each with their strengths and weaknesses. Features extraction step takes the longest time, so we are happy to help you with it. We will supply you with \"something we prepared earlier\", the lists of features already extracted with Radiomics software, and outcomes (CE/non-CE). The data is already split into train and validation sets. Therefore, you can skip this step or return to it later. If you want to skip this step, please move to 'Reading the data' step.  \n",
        "\n",
        "If you want to extract the features by yourself anyway, you can execute the following code. Here we perform features extraction with PyRadiomics software (https://pyradiomics.readthedocs.io/en/latest/) with the precision-medicine-toolbox (https://github.com/primakov/precision-medicine-toolbox) interface. These are the open-source Python packages.  \n",
        "\n",
        "First of all, we would need to convert DICOM data into NRRD. But we will start with unzipping the imaging archive."
      ],
      "metadata": {
        "id": "LzuYSO_Nmn43"
      }
    },
    {
      "cell_type": "code",
      "source": [
        "# this is where we mount a Google Drive\n",
        "\n",
        "from google.colab import drive\n",
        "import os\n",
        "drive.mount('/content/drive')"
      ],
      "metadata": {
        "colab": {
          "base_uri": "https://localhost:8080/"
        },
        "id": "8d3fs4xP-z-0",
        "outputId": "f0d6c83d-2b5d-4f08-9477-d1b01e1f4b66"
      },
      "execution_count": 5,
      "outputs": [
        {
          "output_type": "stream",
          "name": "stdout",
          "text": [
            "Drive already mounted at /content/drive; to attempt to forcibly remount, call drive.mount(\"/content/drive\", force_remount=True).\n"
          ]
        }
      ]
    },
    {
      "cell_type": "code",
      "source": [
        "# listing the DICOM dataset parameters:\n",
        "parameters = {'data_path': '/content/drive/MyDrive/AI4I_Radiomics_Beginners_Data/data_dicom', # path to your DICOM data\n",
        "              'data_type': 'dcm', # original data format: DICOM\n",
        "              'multi_rts_per_pat': False}   # when False, it will look only \n",
        "                                            # for 1 rtstruct in the patient folder, \n",
        "                                            # this will speed up the process, \n",
        "                                            # if you have more then 1 rtstruct per patient,\n",
        "                                            # set it to True\n",
        "\n",
        "# initializing the dataset object:\n",
        "data_dcms = ToolBox(**parameters)\n",
        "\n",
        "# getting the description for the first 10 files:\n",
        "dataset_description = data_dcms.get_dataset_description('CT') \n",
        "dataset_description.head(10)"
      ],
      "metadata": {
        "id": "i-ef2X2zutUd",
        "colab": {
          "base_uri": "https://localhost:8080/",
          "height": 809
        },
        "outputId": "3f2c4304-513b-4653-e062-e5305ba3bd4c"
      },
      "execution_count": 4,
      "outputs": [
        {
          "output_type": "stream",
          "name": "stderr",
          "text": [
            "100%|██████████| 28/28 [01:41<00:00,  3.64s/it]\n",
            "Patients processed: 100%|██████████| 26/26 [01:09<00:00,  2.69s/it]\n"
          ]
        },
        {
          "output_type": "execute_result",
          "data": {
            "text/plain": [
              "                      PatientName ConvolutionKernel  SliceThickness  \\\n",
              "0  (2, 8, 2, 6, 8, 2, 8, 7, 1, 4)              B30f             3.0   \n",
              "1  (2, 8, 2, 6, 8, 2, 8, 7, 1, 4)              B30f             3.0   \n",
              "2  (2, 8, 2, 6, 8, 2, 8, 7, 1, 4)              B30f             3.0   \n",
              "3  (2, 8, 2, 6, 8, 2, 8, 7, 1, 4)              B30f             3.0   \n",
              "4  (2, 8, 2, 6, 8, 2, 8, 7, 1, 4)              B30f             3.0   \n",
              "5  (2, 8, 2, 6, 8, 2, 8, 7, 1, 4)              B30f             3.0   \n",
              "6  (2, 8, 2, 6, 8, 2, 8, 7, 1, 4)              B30f             3.0   \n",
              "7  (2, 8, 2, 6, 8, 2, 8, 7, 1, 4)              B30f             3.0   \n",
              "8  (2, 8, 2, 6, 8, 2, 8, 7, 1, 4)              B30f             3.0   \n",
              "9  (2, 8, 2, 6, 8, 2, 8, 7, 1, 4)              B30f             3.0   \n",
              "\n",
              "             PixelSpacing    KVP Exposure XRayTubeCurrent SeriesDate  \\\n",
              "0  [0.9765625, 0.9765625]  140.0      400              80   20060420   \n",
              "1  [0.9765625, 0.9765625]  140.0      400              80   20060420   \n",
              "2  [0.9765625, 0.9765625]  140.0      400              80   20060420   \n",
              "3  [0.9765625, 0.9765625]  140.0      400              80   20060420   \n",
              "4  [0.9765625, 0.9765625]  140.0      400              80   20060420   \n",
              "5  [0.9765625, 0.9765625]  140.0      400              80   20060420   \n",
              "6  [0.9765625, 0.9765625]  140.0      400              80   20060420   \n",
              "7  [0.9765625, 0.9765625]  140.0      400              80   20060420   \n",
              "8  [0.9765625, 0.9765625]  140.0      400              80   20060420   \n",
              "9  [0.9765625, 0.9765625]  140.0      400              80   20060420   \n",
              "\n",
              "                     patient slice#  \n",
              "0  LUNG1-109_/Unknown (0001)      0  \n",
              "1  LUNG1-109_/Unknown (0001)      1  \n",
              "2  LUNG1-109_/Unknown (0001)      2  \n",
              "3  LUNG1-109_/Unknown (0001)      3  \n",
              "4  LUNG1-109_/Unknown (0001)      4  \n",
              "5  LUNG1-109_/Unknown (0001)      5  \n",
              "6  LUNG1-109_/Unknown (0001)      6  \n",
              "7  LUNG1-109_/Unknown (0001)      7  \n",
              "8  LUNG1-109_/Unknown (0001)      8  \n",
              "9  LUNG1-109_/Unknown (0001)      9  "
            ],
            "text/html": [
              "\n",
              "  <div id=\"df-7ea3f5e4-8ee0-478d-ad43-f05937c41727\">\n",
              "    <div class=\"colab-df-container\">\n",
              "      <div>\n",
              "<style scoped>\n",
              "    .dataframe tbody tr th:only-of-type {\n",
              "        vertical-align: middle;\n",
              "    }\n",
              "\n",
              "    .dataframe tbody tr th {\n",
              "        vertical-align: top;\n",
              "    }\n",
              "\n",
              "    .dataframe thead th {\n",
              "        text-align: right;\n",
              "    }\n",
              "</style>\n",
              "<table border=\"1\" class=\"dataframe\">\n",
              "  <thead>\n",
              "    <tr style=\"text-align: right;\">\n",
              "      <th></th>\n",
              "      <th>PatientName</th>\n",
              "      <th>ConvolutionKernel</th>\n",
              "      <th>SliceThickness</th>\n",
              "      <th>PixelSpacing</th>\n",
              "      <th>KVP</th>\n",
              "      <th>Exposure</th>\n",
              "      <th>XRayTubeCurrent</th>\n",
              "      <th>SeriesDate</th>\n",
              "      <th>patient</th>\n",
              "      <th>slice#</th>\n",
              "    </tr>\n",
              "  </thead>\n",
              "  <tbody>\n",
              "    <tr>\n",
              "      <th>0</th>\n",
              "      <td>(2, 8, 2, 6, 8, 2, 8, 7, 1, 4)</td>\n",
              "      <td>B30f</td>\n",
              "      <td>3.0</td>\n",
              "      <td>[0.9765625, 0.9765625]</td>\n",
              "      <td>140.0</td>\n",
              "      <td>400</td>\n",
              "      <td>80</td>\n",
              "      <td>20060420</td>\n",
              "      <td>LUNG1-109_/Unknown (0001)</td>\n",
              "      <td>0</td>\n",
              "    </tr>\n",
              "    <tr>\n",
              "      <th>1</th>\n",
              "      <td>(2, 8, 2, 6, 8, 2, 8, 7, 1, 4)</td>\n",
              "      <td>B30f</td>\n",
              "      <td>3.0</td>\n",
              "      <td>[0.9765625, 0.9765625]</td>\n",
              "      <td>140.0</td>\n",
              "      <td>400</td>\n",
              "      <td>80</td>\n",
              "      <td>20060420</td>\n",
              "      <td>LUNG1-109_/Unknown (0001)</td>\n",
              "      <td>1</td>\n",
              "    </tr>\n",
              "    <tr>\n",
              "      <th>2</th>\n",
              "      <td>(2, 8, 2, 6, 8, 2, 8, 7, 1, 4)</td>\n",
              "      <td>B30f</td>\n",
              "      <td>3.0</td>\n",
              "      <td>[0.9765625, 0.9765625]</td>\n",
              "      <td>140.0</td>\n",
              "      <td>400</td>\n",
              "      <td>80</td>\n",
              "      <td>20060420</td>\n",
              "      <td>LUNG1-109_/Unknown (0001)</td>\n",
              "      <td>2</td>\n",
              "    </tr>\n",
              "    <tr>\n",
              "      <th>3</th>\n",
              "      <td>(2, 8, 2, 6, 8, 2, 8, 7, 1, 4)</td>\n",
              "      <td>B30f</td>\n",
              "      <td>3.0</td>\n",
              "      <td>[0.9765625, 0.9765625]</td>\n",
              "      <td>140.0</td>\n",
              "      <td>400</td>\n",
              "      <td>80</td>\n",
              "      <td>20060420</td>\n",
              "      <td>LUNG1-109_/Unknown (0001)</td>\n",
              "      <td>3</td>\n",
              "    </tr>\n",
              "    <tr>\n",
              "      <th>4</th>\n",
              "      <td>(2, 8, 2, 6, 8, 2, 8, 7, 1, 4)</td>\n",
              "      <td>B30f</td>\n",
              "      <td>3.0</td>\n",
              "      <td>[0.9765625, 0.9765625]</td>\n",
              "      <td>140.0</td>\n",
              "      <td>400</td>\n",
              "      <td>80</td>\n",
              "      <td>20060420</td>\n",
              "      <td>LUNG1-109_/Unknown (0001)</td>\n",
              "      <td>4</td>\n",
              "    </tr>\n",
              "    <tr>\n",
              "      <th>5</th>\n",
              "      <td>(2, 8, 2, 6, 8, 2, 8, 7, 1, 4)</td>\n",
              "      <td>B30f</td>\n",
              "      <td>3.0</td>\n",
              "      <td>[0.9765625, 0.9765625]</td>\n",
              "      <td>140.0</td>\n",
              "      <td>400</td>\n",
              "      <td>80</td>\n",
              "      <td>20060420</td>\n",
              "      <td>LUNG1-109_/Unknown (0001)</td>\n",
              "      <td>5</td>\n",
              "    </tr>\n",
              "    <tr>\n",
              "      <th>6</th>\n",
              "      <td>(2, 8, 2, 6, 8, 2, 8, 7, 1, 4)</td>\n",
              "      <td>B30f</td>\n",
              "      <td>3.0</td>\n",
              "      <td>[0.9765625, 0.9765625]</td>\n",
              "      <td>140.0</td>\n",
              "      <td>400</td>\n",
              "      <td>80</td>\n",
              "      <td>20060420</td>\n",
              "      <td>LUNG1-109_/Unknown (0001)</td>\n",
              "      <td>6</td>\n",
              "    </tr>\n",
              "    <tr>\n",
              "      <th>7</th>\n",
              "      <td>(2, 8, 2, 6, 8, 2, 8, 7, 1, 4)</td>\n",
              "      <td>B30f</td>\n",
              "      <td>3.0</td>\n",
              "      <td>[0.9765625, 0.9765625]</td>\n",
              "      <td>140.0</td>\n",
              "      <td>400</td>\n",
              "      <td>80</td>\n",
              "      <td>20060420</td>\n",
              "      <td>LUNG1-109_/Unknown (0001)</td>\n",
              "      <td>7</td>\n",
              "    </tr>\n",
              "    <tr>\n",
              "      <th>8</th>\n",
              "      <td>(2, 8, 2, 6, 8, 2, 8, 7, 1, 4)</td>\n",
              "      <td>B30f</td>\n",
              "      <td>3.0</td>\n",
              "      <td>[0.9765625, 0.9765625]</td>\n",
              "      <td>140.0</td>\n",
              "      <td>400</td>\n",
              "      <td>80</td>\n",
              "      <td>20060420</td>\n",
              "      <td>LUNG1-109_/Unknown (0001)</td>\n",
              "      <td>8</td>\n",
              "    </tr>\n",
              "    <tr>\n",
              "      <th>9</th>\n",
              "      <td>(2, 8, 2, 6, 8, 2, 8, 7, 1, 4)</td>\n",
              "      <td>B30f</td>\n",
              "      <td>3.0</td>\n",
              "      <td>[0.9765625, 0.9765625]</td>\n",
              "      <td>140.0</td>\n",
              "      <td>400</td>\n",
              "      <td>80</td>\n",
              "      <td>20060420</td>\n",
              "      <td>LUNG1-109_/Unknown (0001)</td>\n",
              "      <td>9</td>\n",
              "    </tr>\n",
              "  </tbody>\n",
              "</table>\n",
              "</div>\n",
              "      <button class=\"colab-df-convert\" onclick=\"convertToInteractive('df-7ea3f5e4-8ee0-478d-ad43-f05937c41727')\"\n",
              "              title=\"Convert this dataframe to an interactive table.\"\n",
              "              style=\"display:none;\">\n",
              "        \n",
              "  <svg xmlns=\"http://www.w3.org/2000/svg\" height=\"24px\"viewBox=\"0 0 24 24\"\n",
              "       width=\"24px\">\n",
              "    <path d=\"M0 0h24v24H0V0z\" fill=\"none\"/>\n",
              "    <path d=\"M18.56 5.44l.94 2.06.94-2.06 2.06-.94-2.06-.94-.94-2.06-.94 2.06-2.06.94zm-11 1L8.5 8.5l.94-2.06 2.06-.94-2.06-.94L8.5 2.5l-.94 2.06-2.06.94zm10 10l.94 2.06.94-2.06 2.06-.94-2.06-.94-.94-2.06-.94 2.06-2.06.94z\"/><path d=\"M17.41 7.96l-1.37-1.37c-.4-.4-.92-.59-1.43-.59-.52 0-1.04.2-1.43.59L10.3 9.45l-7.72 7.72c-.78.78-.78 2.05 0 2.83L4 21.41c.39.39.9.59 1.41.59.51 0 1.02-.2 1.41-.59l7.78-7.78 2.81-2.81c.8-.78.8-2.07 0-2.86zM5.41 20L4 18.59l7.72-7.72 1.47 1.35L5.41 20z\"/>\n",
              "  </svg>\n",
              "      </button>\n",
              "      \n",
              "  <style>\n",
              "    .colab-df-container {\n",
              "      display:flex;\n",
              "      flex-wrap:wrap;\n",
              "      gap: 12px;\n",
              "    }\n",
              "\n",
              "    .colab-df-convert {\n",
              "      background-color: #E8F0FE;\n",
              "      border: none;\n",
              "      border-radius: 50%;\n",
              "      cursor: pointer;\n",
              "      display: none;\n",
              "      fill: #1967D2;\n",
              "      height: 32px;\n",
              "      padding: 0 0 0 0;\n",
              "      width: 32px;\n",
              "    }\n",
              "\n",
              "    .colab-df-convert:hover {\n",
              "      background-color: #E2EBFA;\n",
              "      box-shadow: 0px 1px 2px rgba(60, 64, 67, 0.3), 0px 1px 3px 1px rgba(60, 64, 67, 0.15);\n",
              "      fill: #174EA6;\n",
              "    }\n",
              "\n",
              "    [theme=dark] .colab-df-convert {\n",
              "      background-color: #3B4455;\n",
              "      fill: #D2E3FC;\n",
              "    }\n",
              "\n",
              "    [theme=dark] .colab-df-convert:hover {\n",
              "      background-color: #434B5C;\n",
              "      box-shadow: 0px 1px 3px 1px rgba(0, 0, 0, 0.15);\n",
              "      filter: drop-shadow(0px 1px 2px rgba(0, 0, 0, 0.3));\n",
              "      fill: #FFFFFF;\n",
              "    }\n",
              "  </style>\n",
              "\n",
              "      <script>\n",
              "        const buttonEl =\n",
              "          document.querySelector('#df-7ea3f5e4-8ee0-478d-ad43-f05937c41727 button.colab-df-convert');\n",
              "        buttonEl.style.display =\n",
              "          google.colab.kernel.accessAllowed ? 'block' : 'none';\n",
              "\n",
              "        async function convertToInteractive(key) {\n",
              "          const element = document.querySelector('#df-7ea3f5e4-8ee0-478d-ad43-f05937c41727');\n",
              "          const dataTable =\n",
              "            await google.colab.kernel.invokeFunction('convertToInteractive',\n",
              "                                                     [key], {});\n",
              "          if (!dataTable) return;\n",
              "\n",
              "          const docLinkHtml = 'Like what you see? Visit the ' +\n",
              "            '<a target=\"_blank\" href=https://colab.research.google.com/notebooks/data_table.ipynb>data table notebook</a>'\n",
              "            + ' to learn more about interactive tables.';\n",
              "          element.innerHTML = '';\n",
              "          dataTable['output_type'] = 'display_data';\n",
              "          await google.colab.output.renderOutput(dataTable, element);\n",
              "          const docLink = document.createElement('div');\n",
              "          docLink.innerHTML = docLinkHtml;\n",
              "          element.appendChild(docLink);\n",
              "        }\n",
              "      </script>\n",
              "    </div>\n",
              "  </div>\n",
              "  "
            ]
          },
          "metadata": {},
          "execution_count": 4
        }
      ]
    },
    {
      "cell_type": "markdown",
      "source": [
        "We can plot some scanning parameters:"
      ],
      "metadata": {
        "id": "Oh6Br3hUu-2D"
      }
    },
    {
      "cell_type": "code",
      "source": [
        "sns.set(context='poster', style='whitegrid')\n",
        "\n",
        "study_date = sorted([ 'Nan' if x=='' or x=='NaN' else str(x[0:4]) for x in list(dataset_description['SeriesDate'])])[2:]\n",
        "conv_kernel =['Nan' if x=='' or x=='NaN' else x for x in list(dataset_description['ConvolutionKernel'])]\n",
        "tube_current =[-1 if x=='' or x=='NaN' else x for x in list(dataset_description['XRayTubeCurrent'])]\n",
        "exposure =[-1 if x=='' or x=='NaN' else x for x in list(dataset_description['Exposure'])]\n",
        "ps = sorted([(x[0]) for x in list(filter(lambda x: x != 'NaN', dataset_description['PixelSpacing'].values))])\n",
        "sl_th = sorted([str(x)[0:3] for x in list(filter(lambda x: x != 'NaN', dataset_description['SliceThickness'].values))])\n",
        "figures,descriptions = [study_date,conv_kernel,tube_current,exposure,ps,sl_th],['Study Date','Conv Kernel','Tube Current','Exposure','Pixel spacing','Slice Thickness']\n",
        "\n",
        "fig,ax = plt.subplots(2,3,figsize=(25,15))\n",
        "for i in range(2):\n",
        "    for j in range(3):\n",
        "        ax[i,j].hist(figures.pop(0),alpha=0.7)\n",
        "        ax[i,j].set_title(descriptions.pop(0),fontsize=20)\n",
        "        \n",
        "plt.suptitle('Imaging parameters in the dataset')\n",
        "plt.show()"
      ],
      "metadata": {
        "id": "uwAbsibOvChZ",
        "colab": {
          "base_uri": "https://localhost:8080/",
          "height": 669
        },
        "outputId": "88df20e6-cedc-4d0f-cafe-b15eacddba24"
      },
      "execution_count": 5,
      "outputs": [
        {
          "output_type": "display_data",
          "data": {
            "text/plain": [
              "<Figure size 1800x1080 with 6 Axes>"
            ],
            "image/png": "[encoded data removed]"
          },
          "metadata": {}
        }
      ]
    },
    {
      "cell_type": "markdown",
      "source": [
        "As PyRadiomics do not support DICOM, we convert images and masks into NRRD format:"
      ],
      "metadata": {
        "id": "BC9FV4BbvEyz"
      }
    },
    {
      "cell_type": "code",
      "source": [
        "data_dcms.convert_to_nrrd('/content/', 'gtv')"
      ],
      "metadata": {
        "id": "L2R4AE55vJPz",
        "colab": {
          "base_uri": "https://localhost:8080/"
        },
        "outputId": "c63e7668-c9d1-4062-c4b5-d7b7a6d77936"
      },
      "execution_count": 6,
      "outputs": [
        {
          "output_type": "stream",
          "name": "stderr",
          "text": [
            "Patients converted: 100%|██████████| 26/26 [00:40<00:00,  1.55s/it]\n"
          ]
        }
      ]
    },
    {
      "cell_type": "markdown",
      "source": [
        "The data is saved in temporary folder and will be lost as soon as you reboot the notebook! We can read the NRRD data and get sure the convertion was correct and the images are co-aligned with the masks:"
      ],
      "metadata": {
        "id": "SqtCfgnnvLOi"
      }
    },
    {
      "cell_type": "code",
      "source": [
        "# initializing the newly created NRRD dataset:\n",
        "data_nrrds = ToolBox(data_path = '/content/converted_nrrds', \n",
        "                     data_type='nrrd')\n",
        "\n",
        "# saving snapshots to JPEG files\n",
        "data_nrrds.get_jpegs('/content/')"
      ],
      "metadata": {
        "id": "Pi9RRBx2vQY6",
        "colab": {
          "base_uri": "https://localhost:8080/"
        },
        "outputId": "dc4f483b-0346-42b9-b215-8f9419181818"
      },
      "execution_count": null,
      "outputs": [
        {
          "output_type": "stream",
          "name": "stderr",
          "text": [
            "100%|██████████| 25/25 [00:00<00:00, 3642.28it/s]\n",
            "Patients processed:  16%|█▌        | 4/25 [01:02<05:27, 15.60s/it]/usr/local/lib/python3.7/dist-packages/pmtool/ToolBox.py:100: UserWarning: Something wrong with LUNG1-001__GTV-1_mask\n",
            "  warn('Something wrong with %s'%pat)\n",
            "Patients processed:  20%|██        | 5/25 [01:10<04:21, 13.09s/it]/usr/local/lib/python3.7/dist-packages/pmtool/ToolBox.py:100: UserWarning: Something wrong with LUNG1-114__GTV-1_mask\n",
            "  warn('Something wrong with %s'%pat)\n",
            "Patients processed:  24%|██▍       | 6/25 [01:11<02:50,  8.97s/it]/usr/local/lib/python3.7/dist-packages/pmtool/ToolBox.py:100: UserWarning: Something wrong with LUNG1-052__GTV-1_mask\n",
            "  warn('Something wrong with %s'%pat)\n",
            "Patients processed:  28%|██▊       | 7/25 [01:12<01:51,  6.17s/it]"
          ]
        }
      ]
    },
    {
      "cell_type": "markdown",
      "source": [
        "A quick look at the contours:"
      ],
      "metadata": {
        "id": "dG4vjCm4vSgu"
      }
    },
    {
      "cell_type": "code",
      "source": [
        "from ipywidgets import interact\n",
        "import numpy as np\n",
        "from PIL import Image\n",
        "\n",
        "def browse_images(images,names):\n",
        "    n = len(images)\n",
        "    def view_image(i):\n",
        "        plt.figure(figsize=(20,10))\n",
        "        plt.imshow(images[i])#, cmap=plt.cm.gray_r, interpolation='nearest')\n",
        "        plt.title('Slice: %s' % names[i])\n",
        "        plt.axis('off')\n",
        "        plt.show()\n",
        "    interact(view_image, i=(0,n-1))\n",
        "\n",
        "for pat,_ in data_nrrds:\n",
        "    _,file_struct = [*os.walk(os.path.join('/content/images_quick_check/',pat))]\n",
        "    root,images = file_struct[0],file_struct[2]\n",
        "    imgs =[np.array(Image.open(os.path.join(root,img))) for img in images]\n",
        "    print(pat)\n",
        "    browse_images(imgs,images)\n",
        "    break"
      ],
      "metadata": {
        "id": "_AQ-lW1JvXm-",
        "colab": {
          "base_uri": "https://localhost:8080/",
          "height": 236
        },
        "outputId": "f99438a0-f1a9-4a95-8078-e19680c8bdd4"
      },
      "execution_count": 1,
      "outputs": [
        {
          "output_type": "error",
          "ename": "NameError",
          "evalue": "ignored",
          "traceback": [
            "\u001b[0;31m---------------------------------------------------------------------------\u001b[0m",
            "\u001b[0;31mNameError\u001b[0m                                 Traceback (most recent call last)",
            "\u001b[0;32m<ipython-input-1-56bd1f0abcfb>\u001b[0m in \u001b[0;36m<module>\u001b[0;34m()\u001b[0m\n\u001b[1;32m     13\u001b[0m     \u001b[0minteract\u001b[0m\u001b[0;34m(\u001b[0m\u001b[0mview_image\u001b[0m\u001b[0;34m,\u001b[0m \u001b[0mi\u001b[0m\u001b[0;34m=\u001b[0m\u001b[0;34m(\u001b[0m\u001b[0;36m0\u001b[0m\u001b[0;34m,\u001b[0m\u001b[0mn\u001b[0m\u001b[0;34m-\u001b[0m\u001b[0;36m1\u001b[0m\u001b[0;34m)\u001b[0m\u001b[0;34m)\u001b[0m\u001b[0;34m\u001b[0m\u001b[0;34m\u001b[0m\u001b[0m\n\u001b[1;32m     14\u001b[0m \u001b[0;34m\u001b[0m\u001b[0m\n\u001b[0;32m---> 15\u001b[0;31m \u001b[0;32mfor\u001b[0m \u001b[0mpat\u001b[0m\u001b[0;34m,\u001b[0m\u001b[0m_\u001b[0m \u001b[0;32min\u001b[0m \u001b[0mdata_nrrds\u001b[0m\u001b[0;34m:\u001b[0m\u001b[0;34m\u001b[0m\u001b[0;34m\u001b[0m\u001b[0m\n\u001b[0m\u001b[1;32m     16\u001b[0m     \u001b[0m_\u001b[0m\u001b[0;34m,\u001b[0m\u001b[0mfile_struct\u001b[0m \u001b[0;34m=\u001b[0m \u001b[0;34m[\u001b[0m\u001b[0;34m*\u001b[0m\u001b[0mos\u001b[0m\u001b[0;34m.\u001b[0m\u001b[0mwalk\u001b[0m\u001b[0;34m(\u001b[0m\u001b[0mos\u001b[0m\u001b[0;34m.\u001b[0m\u001b[0mpath\u001b[0m\u001b[0;34m.\u001b[0m\u001b[0mjoin\u001b[0m\u001b[0;34m(\u001b[0m\u001b[0;34m'/content/images_quick_check/'\u001b[0m\u001b[0;34m,\u001b[0m\u001b[0mpat\u001b[0m\u001b[0;34m)\u001b[0m\u001b[0;34m)\u001b[0m\u001b[0;34m]\u001b[0m\u001b[0;34m\u001b[0m\u001b[0;34m\u001b[0m\u001b[0m\n\u001b[1;32m     17\u001b[0m     \u001b[0mroot\u001b[0m\u001b[0;34m,\u001b[0m\u001b[0mimages\u001b[0m \u001b[0;34m=\u001b[0m \u001b[0mfile_struct\u001b[0m\u001b[0;34m[\u001b[0m\u001b[0;36m0\u001b[0m\u001b[0;34m]\u001b[0m\u001b[0;34m,\u001b[0m\u001b[0mfile_struct\u001b[0m\u001b[0;34m[\u001b[0m\u001b[0;36m2\u001b[0m\u001b[0;34m]\u001b[0m\u001b[0;34m\u001b[0m\u001b[0;34m\u001b[0m\u001b[0m\n",
            "\u001b[0;31mNameError\u001b[0m: name 'data_nrrds' is not defined"
          ]
        }
      ]
    },
    {
      "cell_type": "markdown",
      "source": [
        "In the precision-medicine-toolbox, we are using PyRadiomics software (https://pyradiomics.readthedocs.io/en/latest/) to extract the features. You can read the full documentation for the currently stable version: https://pyradiomics.readthedocs.io/_/downloads/en/stable/pdf/.\n",
        "\n",
        "We are using PyRadiomics parameters file customized for CT data:"
      ],
      "metadata": {
        "id": "DTDiudPavalJ"
      }
    },
    {
      "cell_type": "code",
      "source": [
        "parameters = \"/content/drive/MyDrive/AI4I_Radiomics_Beginners_Data/example_ct_parameters.yaml\"\n",
        "features = data_nrrds.extract_features(parameters)"
      ],
      "metadata": {
        "id": "y1ajdi67vp5M",
        "colab": {
          "base_uri": "https://localhost:8080/"
        },
        "outputId": "e8fcc898-8bae-49d1-b725-1aed5f54c536"
      },
      "execution_count": null,
      "outputs": [
        {
          "output_type": "stream",
          "name": "stderr",
          "text": [
            "Patients processed: 100%|██████████| 25/25 [04:37<00:00, 11.10s/it]\n"
          ]
        }
      ]
    },
    {
      "cell_type": "markdown",
      "source": [
        "Let's have a look at the dataframe with he features:"
      ],
      "metadata": {
        "id": "x8VVpdSQvs3k"
      }
    },
    {
      "cell_type": "code",
      "source": [
        "features.head(10)"
      ],
      "metadata": {
        "id": "MJncp1fkvv4R",
        "colab": {
          "base_uri": "https://localhost:8080/",
          "height": 647
        },
        "outputId": "fdcefe95-7b48-4606-a448-8abb1ae07e3b"
      },
      "execution_count": null,
      "outputs": [
        {
          "output_type": "execute_result",
          "data": {
            "text/plain": [
              "  diagnostics_Versions_PyRadiomics diagnostics_Versions_Numpy  \\\n",
              "0                           v3.0.1                     1.21.6   \n",
              "1                           v3.0.1                     1.21.6   \n",
              "2                           v3.0.1                     1.21.6   \n",
              "3                           v3.0.1                     1.21.6   \n",
              "4                           v3.0.1                     1.21.6   \n",
              "5                           v3.0.1                     1.21.6   \n",
              "6                           v3.0.1                     1.21.6   \n",
              "7                           v3.0.1                     1.21.6   \n",
              "8                           v3.0.1                     1.21.6   \n",
              "9                           v3.0.1                     1.21.6   \n",
              "\n",
              "  diagnostics_Versions_SimpleITK diagnostics_Versions_PyWavelet  \\\n",
              "0                        2.1.1.2                          1.3.0   \n",
              "1                        2.1.1.2                          1.3.0   \n",
              "2                        2.1.1.2                          1.3.0   \n",
              "3                        2.1.1.2                          1.3.0   \n",
              "4                        2.1.1.2                          1.3.0   \n",
              "5                        2.1.1.2                          1.3.0   \n",
              "6                        2.1.1.2                          1.3.0   \n",
              "7                        2.1.1.2                          1.3.0   \n",
              "8                        2.1.1.2                          1.3.0   \n",
              "9                        2.1.1.2                          1.3.0   \n",
              "\n",
              "  diagnostics_Versions_Python  \\\n",
              "0                      3.7.13   \n",
              "1                      3.7.13   \n",
              "2                      3.7.13   \n",
              "3                      3.7.13   \n",
              "4                      3.7.13   \n",
              "5                      3.7.13   \n",
              "6                      3.7.13   \n",
              "7                      3.7.13   \n",
              "8                      3.7.13   \n",
              "9                      3.7.13   \n",
              "\n",
              "                  diagnostics_Configuration_Settings  \\\n",
              "0  {'minimumROIDimensions': 2, 'minimumROISize': ...   \n",
              "1  {'minimumROIDimensions': 2, 'minimumROISize': ...   \n",
              "2  {'minimumROIDimensions': 2, 'minimumROISize': ...   \n",
              "3  {'minimumROIDimensions': 2, 'minimumROISize': ...   \n",
              "4  {'minimumROIDimensions': 2, 'minimumROISize': ...   \n",
              "5  {'minimumROIDimensions': 2, 'minimumROISize': ...   \n",
              "6  {'minimumROIDimensions': 2, 'minimumROISize': ...   \n",
              "7  {'minimumROIDimensions': 2, 'minimumROISize': ...   \n",
              "8  {'minimumROIDimensions': 2, 'minimumROISize': ...   \n",
              "9  {'minimumROIDimensions': 2, 'minimumROISize': ...   \n",
              "\n",
              "  diagnostics_Configuration_EnabledImageTypes  \\\n",
              "0             {'Original': {}, 'Wavelet': {}}   \n",
              "1             {'Original': {}, 'Wavelet': {}}   \n",
              "2             {'Original': {}, 'Wavelet': {}}   \n",
              "3             {'Original': {}, 'Wavelet': {}}   \n",
              "4             {'Original': {}, 'Wavelet': {}}   \n",
              "5             {'Original': {}, 'Wavelet': {}}   \n",
              "6             {'Original': {}, 'Wavelet': {}}   \n",
              "7             {'Original': {}, 'Wavelet': {}}   \n",
              "8             {'Original': {}, 'Wavelet': {}}   \n",
              "9             {'Original': {}, 'Wavelet': {}}   \n",
              "\n",
              "            diagnostics_Image-original_Hash  \\\n",
              "0  1defc93a87744cc78261e1851adeb078a8536325   \n",
              "1  f5a64efb3d255ae628ffee2afc1091f33d6b4be3   \n",
              "2  87a0b82a8ae8952c2c9f983de266ea36bcc99e41   \n",
              "3  492a721b5f9041e483128b7ff8234188ae3fd740   \n",
              "4  0a271cd35ead443e1037e2d026317c22406d6302   \n",
              "5  282e69755d37648beda562786f7d776fb193b490   \n",
              "6  5e6c47eaa496681db64be7baa116bec927b04448   \n",
              "7  37c7302e78f7677852d8ae803372b2b88522fc40   \n",
              "8  ff346241aaffb51e210335bf63d7b77343dc7327   \n",
              "9  a25bd4f3f7a8e3b9afcf8658c17554c7b040f72e   \n",
              "\n",
              "  diagnostics_Image-original_Dimensionality  \\\n",
              "0                                        3D   \n",
              "1                                        3D   \n",
              "2                                        3D   \n",
              "3                                        3D   \n",
              "4                                        3D   \n",
              "5                                        3D   \n",
              "6                                        3D   \n",
              "7                                        3D   \n",
              "8                                        3D   \n",
              "9                                        3D   \n",
              "\n",
              "  diagnostics_Image-original_Spacing  ...  \\\n",
              "0        (0.9765625, 0.9765625, 3.0)  ...   \n",
              "1        (0.9765625, 0.9765625, 3.0)  ...   \n",
              "2        (0.9765625, 0.9765625, 3.0)  ...   \n",
              "3        (0.9765625, 0.9765625, 3.0)  ...   \n",
              "4        (0.9765625, 0.9765625, 3.0)  ...   \n",
              "5                (0.977, 0.977, 3.0)  ...   \n",
              "6        (0.9765625, 0.9765625, 3.0)  ...   \n",
              "7        (0.9765625, 0.9765625, 3.0)  ...   \n",
              "8        (0.9765625, 0.9765625, 3.0)  ...   \n",
              "9        (0.9765625, 0.9765625, 3.0)  ...   \n",
              "\n",
              "  wavelet-LLL_gldm_HighGrayLevelEmphasis  \\\n",
              "0                      15382.37291495537   \n",
              "1                     11424.937163447912   \n",
              "2                      6526.772815533981   \n",
              "3                     7213.2603850050655   \n",
              "4                     12120.948355242268   \n",
              "5                     13798.217593137668   \n",
              "6                      9778.187949718249   \n",
              "7                      7973.993145114442   \n",
              "8                     10781.913258259854   \n",
              "9                      11912.95701071295   \n",
              "\n",
              "  wavelet-LLL_gldm_LargeDependenceEmphasis  \\\n",
              "0                       49.470313783472974   \n",
              "1                        25.50589092675817   \n",
              "2                        4.668608414239483   \n",
              "3                       10.179331306990882   \n",
              "4                       62.790601384390676   \n",
              "5                        153.2623496762257   \n",
              "6                       25.576159514521024   \n",
              "7                       11.777971418612758   \n",
              "8                        46.86688622118347   \n",
              "9                        48.97440550826019   \n",
              "\n",
              "  wavelet-LLL_gldm_LargeDependenceHighGrayLevelEmphasis  \\\n",
              "0                                  820361.7806582334      \n",
              "1                                 365557.81250253046      \n",
              "2                                 46546.384466019415      \n",
              "3                                 103931.30091185411      \n",
              "4                                  756991.9769130629      \n",
              "5                                  2143507.828368794      \n",
              "6                                 377340.03883831814      \n",
              "7                                 141391.53189264552      \n",
              "8                                  609739.9170473459      \n",
              "9                                  627517.1584339734      \n",
              "\n",
              "  wavelet-LLL_gldm_LargeDependenceLowGrayLevelEmphasis  \\\n",
              "0                               0.003213826535937308     \n",
              "1                              0.0019222977107221824     \n",
              "2                              0.0021760043351021427     \n",
              "3                               0.001936819438556479     \n",
              "4                               0.005391095398416303     \n",
              "5                               0.010978165894795914     \n",
              "6                                0.00332251206469015     \n",
              "7                               0.002047464290362696     \n",
              "8                               0.005208632065352927     \n",
              "9                               0.003956237218973858     \n",
              "\n",
              "  wavelet-LLL_gldm_LowGrayLevelEmphasis  \\\n",
              "0                0.00013104252483705562   \n",
              "1                0.00014650126466682128   \n",
              "2                 0.0014470563582585222   \n",
              "3                 0.0007380977646234272   \n",
              "4                0.00012172705086869571   \n",
              "5                 8.267286538620663e-05   \n",
              "6                 0.0005218742688938506   \n",
              "7                 0.0005528949471831643   \n",
              "8                 0.0004067118958074213   \n",
              "9                0.00011884927576849712   \n",
              "\n",
              "  wavelet-LLL_gldm_SmallDependenceEmphasis  \\\n",
              "0                      0.21493736161754748   \n",
              "1                      0.37142848874622025   \n",
              "2                       0.6728499784784983   \n",
              "3                       0.5505141320158502   \n",
              "4                      0.13701687025275927   \n",
              "5                     0.057325663977585324   \n",
              "6                        0.481002952868549   \n",
              "7                       0.5504001975470901   \n",
              "8                      0.30578196538544317   \n",
              "9                       0.1546192861189277   \n",
              "\n",
              "  wavelet-LLL_gldm_SmallDependenceHighGrayLevelEmphasis  \\\n",
              "0                                 2611.8525474838516      \n",
              "1                                   3237.59491355631      \n",
              "2                                 3554.6204310572184      \n",
              "3                                 3226.2736170409753      \n",
              "4                                 1687.1171404294137      \n",
              "5                                  701.1208896940113      \n",
              "6                                 3342.8889330127363      \n",
              "7                                 3440.7020597567407      \n",
              "8                                 2446.4590073859213      \n",
              "9                                 1447.5967151081654      \n",
              "\n",
              "  wavelet-LLL_gldm_SmallDependenceLowGrayLevelEmphasis  \\\n",
              "0                              5.390994439636723e-05     \n",
              "1                               8.62486240125301e-05     \n",
              "2                              0.0013271134117182374     \n",
              "3                              0.0006269034691349227     \n",
              "4                              3.267825946044915e-05     \n",
              "5                             1.4002802720821606e-05     \n",
              "6                             0.00025176428502024436     \n",
              "7                              0.0004118219492707392     \n",
              "8                              0.0002081153507336226     \n",
              "9                              3.860250535627704e-05     \n",
              "\n",
              "                                             Patient  \\\n",
              "0  LUNG1-109__/content/drive/MyDrive/AI4I_Radiomi...   \n",
              "1  LUNG1-113__/content/drive/MyDrive/AI4I_Radiomi...   \n",
              "2  LUNG1-098__/content/drive/MyDrive/AI4I_Radiomi...   \n",
              "3  LUNG1-114__/content/drive/MyDrive/AI4I_Radiomi...   \n",
              "4  LUNG1-105__/content/drive/MyDrive/AI4I_Radiomi...   \n",
              "5  LUNG1-095__/content/drive/MyDrive/AI4I_Radiomi...   \n",
              "6  LUNG1-084__/content/drive/MyDrive/AI4I_Radiomi...   \n",
              "7  LUNG1-103__/content/drive/MyDrive/AI4I_Radiomi...   \n",
              "8  LUNG1-099__/content/drive/MyDrive/AI4I_Radiomi...   \n",
              "9  LUNG1-116__/content/drive/MyDrive/AI4I_Radiomi...   \n",
              "\n",
              "                                                 ROI  \n",
              "0  /content/drive/MyDrive/AI4I_Radiomics_Beginner...  \n",
              "1  /content/drive/MyDrive/AI4I_Radiomics_Beginner...  \n",
              "2  /content/drive/MyDrive/AI4I_Radiomics_Beginner...  \n",
              "3  /content/drive/MyDrive/AI4I_Radiomics_Beginner...  \n",
              "4  /content/drive/MyDrive/AI4I_Radiomics_Beginner...  \n",
              "5  /content/drive/MyDrive/AI4I_Radiomics_Beginner...  \n",
              "6  /content/drive/MyDrive/AI4I_Radiomics_Beginner...  \n",
              "7  /content/drive/MyDrive/AI4I_Radiomics_Beginner...  \n",
              "8  /content/drive/MyDrive/AI4I_Radiomics_Beginner...  \n",
              "9  /content/drive/MyDrive/AI4I_Radiomics_Beginner...  \n",
              "\n",
              "[10 rows x 629 columns]"
            ],
            "text/html": [
              "\n",
              "  <div id=\"df-bf78b378-5de8-4e4d-b0b3-6ff90e37e788\">\n",
              "    <div class=\"colab-df-container\">\n",
              "      <div>\n",
              "<style scoped>\n",
              "    .dataframe tbody tr th:only-of-type {\n",
              "        vertical-align: middle;\n",
              "    }\n",
              "\n",
              "    .dataframe tbody tr th {\n",
              "        vertical-align: top;\n",
              "    }\n",
              "\n",
              "    .dataframe thead th {\n",
              "        text-align: right;\n",
              "    }\n",
              "</style>\n",
              "<table border=\"1\" class=\"dataframe\">\n",
              "  <thead>\n",
              "    <tr style=\"text-align: right;\">\n",
              "      <th></th>\n",
              "      <th>diagnostics_Versions_PyRadiomics</th>\n",
              "      <th>diagnostics_Versions_Numpy</th>\n",
              "      <th>diagnostics_Versions_SimpleITK</th>\n",
              "      <th>diagnostics_Versions_PyWavelet</th>\n",
              "      <th>diagnostics_Versions_Python</th>\n",
              "      <th>diagnostics_Configuration_Settings</th>\n",
              "      <th>diagnostics_Configuration_EnabledImageTypes</th>\n",
              "      <th>diagnostics_Image-original_Hash</th>\n",
              "      <th>diagnostics_Image-original_Dimensionality</th>\n",
              "      <th>diagnostics_Image-original_Spacing</th>\n",
              "      <th>...</th>\n",
              "      <th>wavelet-LLL_gldm_HighGrayLevelEmphasis</th>\n",
              "      <th>wavelet-LLL_gldm_LargeDependenceEmphasis</th>\n",
              "      <th>wavelet-LLL_gldm_LargeDependenceHighGrayLevelEmphasis</th>\n",
              "      <th>wavelet-LLL_gldm_LargeDependenceLowGrayLevelEmphasis</th>\n",
              "      <th>wavelet-LLL_gldm_LowGrayLevelEmphasis</th>\n",
              "      <th>wavelet-LLL_gldm_SmallDependenceEmphasis</th>\n",
              "      <th>wavelet-LLL_gldm_SmallDependenceHighGrayLevelEmphasis</th>\n",
              "      <th>wavelet-LLL_gldm_SmallDependenceLowGrayLevelEmphasis</th>\n",
              "      <th>Patient</th>\n",
              "      <th>ROI</th>\n",
              "    </tr>\n",
              "  </thead>\n",
              "  <tbody>\n",
              "    <tr>\n",
              "      <th>0</th>\n",
              "      <td>v3.0.1</td>\n",
              "      <td>1.21.6</td>\n",
              "      <td>2.1.1.2</td>\n",
              "      <td>1.3.0</td>\n",
              "      <td>3.7.13</td>\n",
              "      <td>{'minimumROIDimensions': 2, 'minimumROISize': ...</td>\n",
              "      <td>{'Original': {}, 'Wavelet': {}}</td>\n",
              "      <td>1defc93a87744cc78261e1851adeb078a8536325</td>\n",
              "      <td>3D</td>\n",
              "      <td>(0.9765625, 0.9765625, 3.0)</td>\n",
              "      <td>...</td>\n",
              "      <td>15382.37291495537</td>\n",
              "      <td>49.470313783472974</td>\n",
              "      <td>820361.7806582334</td>\n",
              "      <td>0.003213826535937308</td>\n",
              "      <td>0.00013104252483705562</td>\n",
              "      <td>0.21493736161754748</td>\n",
              "      <td>2611.8525474838516</td>\n",
              "      <td>5.390994439636723e-05</td>\n",
              "      <td>LUNG1-109__/content/drive/MyDrive/AI4I_Radiomi...</td>\n",
              "      <td>/content/drive/MyDrive/AI4I_Radiomics_Beginner...</td>\n",
              "    </tr>\n",
              "    <tr>\n",
              "      <th>1</th>\n",
              "      <td>v3.0.1</td>\n",
              "      <td>1.21.6</td>\n",
              "      <td>2.1.1.2</td>\n",
              "      <td>1.3.0</td>\n",
              "      <td>3.7.13</td>\n",
              "      <td>{'minimumROIDimensions': 2, 'minimumROISize': ...</td>\n",
              "      <td>{'Original': {}, 'Wavelet': {}}</td>\n",
              "      <td>f5a64efb3d255ae628ffee2afc1091f33d6b4be3</td>\n",
              "      <td>3D</td>\n",
              "      <td>(0.9765625, 0.9765625, 3.0)</td>\n",
              "      <td>...</td>\n",
              "      <td>11424.937163447912</td>\n",
              "      <td>25.50589092675817</td>\n",
              "      <td>365557.81250253046</td>\n",
              "      <td>0.0019222977107221824</td>\n",
              "      <td>0.00014650126466682128</td>\n",
              "      <td>0.37142848874622025</td>\n",
              "      <td>3237.59491355631</td>\n",
              "      <td>8.62486240125301e-05</td>\n",
              "      <td>LUNG1-113__/content/drive/MyDrive/AI4I_Radiomi...</td>\n",
              "      <td>/content/drive/MyDrive/AI4I_Radiomics_Beginner...</td>\n",
              "    </tr>\n",
              "    <tr>\n",
              "      <th>2</th>\n",
              "      <td>v3.0.1</td>\n",
              "      <td>1.21.6</td>\n",
              "      <td>2.1.1.2</td>\n",
              "      <td>1.3.0</td>\n",
              "      <td>3.7.13</td>\n",
              "      <td>{'minimumROIDimensions': 2, 'minimumROISize': ...</td>\n",
              "      <td>{'Original': {}, 'Wavelet': {}}</td>\n",
              "      <td>87a0b82a8ae8952c2c9f983de266ea36bcc99e41</td>\n",
              "      <td>3D</td>\n",
              "      <td>(0.9765625, 0.9765625, 3.0)</td>\n",
              "      <td>...</td>\n",
              "      <td>6526.772815533981</td>\n",
              "      <td>4.668608414239483</td>\n",
              "      <td>46546.384466019415</td>\n",
              "      <td>0.0021760043351021427</td>\n",
              "      <td>0.0014470563582585222</td>\n",
              "      <td>0.6728499784784983</td>\n",
              "      <td>3554.6204310572184</td>\n",
              "      <td>0.0013271134117182374</td>\n",
              "      <td>LUNG1-098__/content/drive/MyDrive/AI4I_Radiomi...</td>\n",
              "      <td>/content/drive/MyDrive/AI4I_Radiomics_Beginner...</td>\n",
              "    </tr>\n",
              "    <tr>\n",
              "      <th>3</th>\n",
              "      <td>v3.0.1</td>\n",
              "      <td>1.21.6</td>\n",
              "      <td>2.1.1.2</td>\n",
              "      <td>1.3.0</td>\n",
              "      <td>3.7.13</td>\n",
              "      <td>{'minimumROIDimensions': 2, 'minimumROISize': ...</td>\n",
              "      <td>{'Original': {}, 'Wavelet': {}}</td>\n",
              "      <td>492a721b5f9041e483128b7ff8234188ae3fd740</td>\n",
              "      <td>3D</td>\n",
              "      <td>(0.9765625, 0.9765625, 3.0)</td>\n",
              "      <td>...</td>\n",
              "      <td>7213.2603850050655</td>\n",
              "      <td>10.179331306990882</td>\n",
              "      <td>103931.30091185411</td>\n",
              "      <td>0.001936819438556479</td>\n",
              "      <td>0.0007380977646234272</td>\n",
              "      <td>0.5505141320158502</td>\n",
              "      <td>3226.2736170409753</td>\n",
              "      <td>0.0006269034691349227</td>\n",
              "      <td>LUNG1-114__/content/drive/MyDrive/AI4I_Radiomi...</td>\n",
              "      <td>/content/drive/MyDrive/AI4I_Radiomics_Beginner...</td>\n",
              "    </tr>\n",
              "    <tr>\n",
              "      <th>4</th>\n",
              "      <td>v3.0.1</td>\n",
              "      <td>1.21.6</td>\n",
              "      <td>2.1.1.2</td>\n",
              "      <td>1.3.0</td>\n",
              "      <td>3.7.13</td>\n",
              "      <td>{'minimumROIDimensions': 2, 'minimumROISize': ...</td>\n",
              "      <td>{'Original': {}, 'Wavelet': {}}</td>\n",
              "      <td>0a271cd35ead443e1037e2d026317c22406d6302</td>\n",
              "      <td>3D</td>\n",
              "      <td>(0.9765625, 0.9765625, 3.0)</td>\n",
              "      <td>...</td>\n",
              "      <td>12120.948355242268</td>\n",
              "      <td>62.790601384390676</td>\n",
              "      <td>756991.9769130629</td>\n",
              "      <td>0.005391095398416303</td>\n",
              "      <td>0.00012172705086869571</td>\n",
              "      <td>0.13701687025275927</td>\n",
              "      <td>1687.1171404294137</td>\n",
              "      <td>3.267825946044915e-05</td>\n",
              "      <td>LUNG1-105__/content/drive/MyDrive/AI4I_Radiomi...</td>\n",
              "      <td>/content/drive/MyDrive/AI4I_Radiomics_Beginner...</td>\n",
              "    </tr>\n",
              "    <tr>\n",
              "      <th>5</th>\n",
              "      <td>v3.0.1</td>\n",
              "      <td>1.21.6</td>\n",
              "      <td>2.1.1.2</td>\n",
              "      <td>1.3.0</td>\n",
              "      <td>3.7.13</td>\n",
              "      <td>{'minimumROIDimensions': 2, 'minimumROISize': ...</td>\n",
              "      <td>{'Original': {}, 'Wavelet': {}}</td>\n",
              "      <td>282e69755d37648beda562786f7d776fb193b490</td>\n",
              "      <td>3D</td>\n",
              "      <td>(0.977, 0.977, 3.0)</td>\n",
              "      <td>...</td>\n",
              "      <td>13798.217593137668</td>\n",
              "      <td>153.2623496762257</td>\n",
              "      <td>2143507.828368794</td>\n",
              "      <td>0.010978165894795914</td>\n",
              "      <td>8.267286538620663e-05</td>\n",
              "      <td>0.057325663977585324</td>\n",
              "      <td>701.1208896940113</td>\n",
              "      <td>1.4002802720821606e-05</td>\n",
              "      <td>LUNG1-095__/content/drive/MyDrive/AI4I_Radiomi...</td>\n",
              "      <td>/content/drive/MyDrive/AI4I_Radiomics_Beginner...</td>\n",
              "    </tr>\n",
              "    <tr>\n",
              "      <th>6</th>\n",
              "      <td>v3.0.1</td>\n",
              "      <td>1.21.6</td>\n",
              "      <td>2.1.1.2</td>\n",
              "      <td>1.3.0</td>\n",
              "      <td>3.7.13</td>\n",
              "      <td>{'minimumROIDimensions': 2, 'minimumROISize': ...</td>\n",
              "      <td>{'Original': {}, 'Wavelet': {}}</td>\n",
              "      <td>5e6c47eaa496681db64be7baa116bec927b04448</td>\n",
              "      <td>3D</td>\n",
              "      <td>(0.9765625, 0.9765625, 3.0)</td>\n",
              "      <td>...</td>\n",
              "      <td>9778.187949718249</td>\n",
              "      <td>25.576159514521024</td>\n",
              "      <td>377340.03883831814</td>\n",
              "      <td>0.00332251206469015</td>\n",
              "      <td>0.0005218742688938506</td>\n",
              "      <td>0.481002952868549</td>\n",
              "      <td>3342.8889330127363</td>\n",
              "      <td>0.00025176428502024436</td>\n",
              "      <td>LUNG1-084__/content/drive/MyDrive/AI4I_Radiomi...</td>\n",
              "      <td>/content/drive/MyDrive/AI4I_Radiomics_Beginner...</td>\n",
              "    </tr>\n",
              "    <tr>\n",
              "      <th>7</th>\n",
              "      <td>v3.0.1</td>\n",
              "      <td>1.21.6</td>\n",
              "      <td>2.1.1.2</td>\n",
              "      <td>1.3.0</td>\n",
              "      <td>3.7.13</td>\n",
              "      <td>{'minimumROIDimensions': 2, 'minimumROISize': ...</td>\n",
              "      <td>{'Original': {}, 'Wavelet': {}}</td>\n",
              "      <td>37c7302e78f7677852d8ae803372b2b88522fc40</td>\n",
              "      <td>3D</td>\n",
              "      <td>(0.9765625, 0.9765625, 3.0)</td>\n",
              "      <td>...</td>\n",
              "      <td>7973.993145114442</td>\n",
              "      <td>11.777971418612758</td>\n",
              "      <td>141391.53189264552</td>\n",
              "      <td>0.002047464290362696</td>\n",
              "      <td>0.0005528949471831643</td>\n",
              "      <td>0.5504001975470901</td>\n",
              "      <td>3440.7020597567407</td>\n",
              "      <td>0.0004118219492707392</td>\n",
              "      <td>LUNG1-103__/content/drive/MyDrive/AI4I_Radiomi...</td>\n",
              "      <td>/content/drive/MyDrive/AI4I_Radiomics_Beginner...</td>\n",
              "    </tr>\n",
              "    <tr>\n",
              "      <th>8</th>\n",
              "      <td>v3.0.1</td>\n",
              "      <td>1.21.6</td>\n",
              "      <td>2.1.1.2</td>\n",
              "      <td>1.3.0</td>\n",
              "      <td>3.7.13</td>\n",
              "      <td>{'minimumROIDimensions': 2, 'minimumROISize': ...</td>\n",
              "      <td>{'Original': {}, 'Wavelet': {}}</td>\n",
              "      <td>ff346241aaffb51e210335bf63d7b77343dc7327</td>\n",
              "      <td>3D</td>\n",
              "      <td>(0.9765625, 0.9765625, 3.0)</td>\n",
              "      <td>...</td>\n",
              "      <td>10781.913258259854</td>\n",
              "      <td>46.86688622118347</td>\n",
              "      <td>609739.9170473459</td>\n",
              "      <td>0.005208632065352927</td>\n",
              "      <td>0.0004067118958074213</td>\n",
              "      <td>0.30578196538544317</td>\n",
              "      <td>2446.4590073859213</td>\n",
              "      <td>0.0002081153507336226</td>\n",
              "      <td>LUNG1-099__/content/drive/MyDrive/AI4I_Radiomi...</td>\n",
              "      <td>/content/drive/MyDrive/AI4I_Radiomics_Beginner...</td>\n",
              "    </tr>\n",
              "    <tr>\n",
              "      <th>9</th>\n",
              "      <td>v3.0.1</td>\n",
              "      <td>1.21.6</td>\n",
              "      <td>2.1.1.2</td>\n",
              "      <td>1.3.0</td>\n",
              "      <td>3.7.13</td>\n",
              "      <td>{'minimumROIDimensions': 2, 'minimumROISize': ...</td>\n",
              "      <td>{'Original': {}, 'Wavelet': {}}</td>\n",
              "      <td>a25bd4f3f7a8e3b9afcf8658c17554c7b040f72e</td>\n",
              "      <td>3D</td>\n",
              "      <td>(0.9765625, 0.9765625, 3.0)</td>\n",
              "      <td>...</td>\n",
              "      <td>11912.95701071295</td>\n",
              "      <td>48.97440550826019</td>\n",
              "      <td>627517.1584339734</td>\n",
              "      <td>0.003956237218973858</td>\n",
              "      <td>0.00011884927576849712</td>\n",
              "      <td>0.1546192861189277</td>\n",
              "      <td>1447.5967151081654</td>\n",
              "      <td>3.860250535627704e-05</td>\n",
              "      <td>LUNG1-116__/content/drive/MyDrive/AI4I_Radiomi...</td>\n",
              "      <td>/content/drive/MyDrive/AI4I_Radiomics_Beginner...</td>\n",
              "    </tr>\n",
              "  </tbody>\n",
              "</table>\n",
              "<p>10 rows × 629 columns</p>\n",
              "</div>\n",
              "      <button class=\"colab-df-convert\" onclick=\"convertToInteractive('df-bf78b378-5de8-4e4d-b0b3-6ff90e37e788')\"\n",
              "              title=\"Convert this dataframe to an interactive table.\"\n",
              "              style=\"display:none;\">\n",
              "        \n",
              "  <svg xmlns=\"http://www.w3.org/2000/svg\" height=\"24px\"viewBox=\"0 0 24 24\"\n",
              "       width=\"24px\">\n",
              "    <path d=\"M0 0h24v24H0V0z\" fill=\"none\"/>\n",
              "    <path d=\"M18.56 5.44l.94 2.06.94-2.06 2.06-.94-2.06-.94-.94-2.06-.94 2.06-2.06.94zm-11 1L8.5 8.5l.94-2.06 2.06-.94-2.06-.94L8.5 2.5l-.94 2.06-2.06.94zm10 10l.94 2.06.94-2.06 2.06-.94-2.06-.94-.94-2.06-.94 2.06-2.06.94z\"/><path d=\"M17.41 7.96l-1.37-1.37c-.4-.4-.92-.59-1.43-.59-.52 0-1.04.2-1.43.59L10.3 9.45l-7.72 7.72c-.78.78-.78 2.05 0 2.83L4 21.41c.39.39.9.59 1.41.59.51 0 1.02-.2 1.41-.59l7.78-7.78 2.81-2.81c.8-.78.8-2.07 0-2.86zM5.41 20L4 18.59l7.72-7.72 1.47 1.35L5.41 20z\"/>\n",
              "  </svg>\n",
              "      </button>\n",
              "      \n",
              "  <style>\n",
              "    .colab-df-container {\n",
              "      display:flex;\n",
              "      flex-wrap:wrap;\n",
              "      gap: 12px;\n",
              "    }\n",
              "\n",
              "    .colab-df-convert {\n",
              "      background-color: #E8F0FE;\n",
              "      border: none;\n",
              "      border-radius: 50%;\n",
              "      cursor: pointer;\n",
              "      display: none;\n",
              "      fill: #1967D2;\n",
              "      height: 32px;\n",
              "      padding: 0 0 0 0;\n",
              "      width: 32px;\n",
              "    }\n",
              "\n",
              "    .colab-df-convert:hover {\n",
              "      background-color: #E2EBFA;\n",
              "      box-shadow: 0px 1px 2px rgba(60, 64, 67, 0.3), 0px 1px 3px 1px rgba(60, 64, 67, 0.15);\n",
              "      fill: #174EA6;\n",
              "    }\n",
              "\n",
              "    [theme=dark] .colab-df-convert {\n",
              "      background-color: #3B4455;\n",
              "      fill: #D2E3FC;\n",
              "    }\n",
              "\n",
              "    [theme=dark] .colab-df-convert:hover {\n",
              "      background-color: #434B5C;\n",
              "      box-shadow: 0px 1px 3px 1px rgba(0, 0, 0, 0.15);\n",
              "      filter: drop-shadow(0px 1px 2px rgba(0, 0, 0, 0.3));\n",
              "      fill: #FFFFFF;\n",
              "    }\n",
              "  </style>\n",
              "\n",
              "      <script>\n",
              "        const buttonEl =\n",
              "          document.querySelector('#df-bf78b378-5de8-4e4d-b0b3-6ff90e37e788 button.colab-df-convert');\n",
              "        buttonEl.style.display =\n",
              "          google.colab.kernel.accessAllowed ? 'block' : 'none';\n",
              "\n",
              "        async function convertToInteractive(key) {\n",
              "          const element = document.querySelector('#df-bf78b378-5de8-4e4d-b0b3-6ff90e37e788');\n",
              "          const dataTable =\n",
              "            await google.colab.kernel.invokeFunction('convertToInteractive',\n",
              "                                                     [key], {});\n",
              "          if (!dataTable) return;\n",
              "\n",
              "          const docLinkHtml = 'Like what you see? Visit the ' +\n",
              "            '<a target=\"_blank\" href=https://colab.research.google.com/notebooks/data_table.ipynb>data table notebook</a>'\n",
              "            + ' to learn more about interactive tables.';\n",
              "          element.innerHTML = '';\n",
              "          dataTable['output_type'] = 'display_data';\n",
              "          await google.colab.output.renderOutput(dataTable, element);\n",
              "          const docLink = document.createElement('div');\n",
              "          docLink.innerHTML = docLinkHtml;\n",
              "          element.appendChild(docLink);\n",
              "        }\n",
              "      </script>\n",
              "    </div>\n",
              "  </div>\n",
              "  "
            ]
          },
          "metadata": {},
          "execution_count": 21
        }
      ]
    },
    {
      "cell_type": "markdown",
      "source": [
        "Now you know how to extract features. Nevertheless, in the prepared files, we also have an expert's outcome (CE/non-CE), therefore, from now on, we recommend to use those .csv files. Moreover, we selected only one ROI per patient (GTV) and the patients were splitted into training and testing sets. The key difference is that the present script is using Pyradiomics for feature extraction whereas in the prepared files, Radiomics software (https://radiomics.bio/) was used.\n",
        "\n",
        "## Reading the data \n",
        "\n",
        "For this step, you will need to upload the feature dataframes to the 'Files' of this notebook and specify the path to these files containing the features and outcomes (in this case 0 or 1 for CE/non-CE). We have already cleaned the dataset to remove low quality CTs, and separated the data into training (N=253) and testing (N=106) groups. \n",
        "It is important that apart from initial dataset cleaning, all the work is only performed in the training dataset and the test set remains untouched.\n",
        "\n",
        "<b>NOTE: the separator character, text quotation, decimal point character change depending on your country settings. If this step fails, add those settings into read_csv function. Also, the outputs from different radiomics softwares can differ wildly, so some thought is necessary when doing this at home.</b>  \n",
        "\n"
      ],
      "metadata": {
        "id": "yja8CdFGvy4b"
      }
    },
    {
      "cell_type": "code",
      "source": [
        "data_train = pd.read_csv(\"/content/drive/MyDrive/AI4I_Radiomics_Beginners_Data/data_features/WS2022_Beginners_TrainingSet.csv\")\n",
        "data_test = pd.read_csv(\"/content/drive/MyDrive/AI4I_Radiomics_Beginners_Data/data_features/WS2022_Beginners_ValidationSet.csv\")\n",
        "\n",
        "# let's have a look at our dataframe:\n",
        "data_test"
      ],
      "metadata": {
        "colab": {
          "base_uri": "https://localhost:8080/",
          "height": 488
        },
        "id": "EQ-YoYDCwJXo",
        "outputId": "7c99de94-e247-4533-8d71-bef92f41f5d4"
      },
      "execution_count": null,
      "outputs": [
        {
          "output_type": "execute_result",
          "data": {
            "text/plain": [
              "    General_PatientID  Outcome  Fractal_average  Fractal_lacunarity  \\\n",
              "0      Lung-LUNG1-004        0         2.725609            0.019518   \n",
              "1      Lung-LUNG1-009        1         2.701381            0.019320   \n",
              "2      Lung-LUNG1-010        1         2.743509            0.026183   \n",
              "3      Lung-LUNG1-011        1         2.871822            0.015055   \n",
              "4      Lung-LUNG1-012        1         2.734307            0.024336   \n",
              "..                ...      ...              ...                 ...   \n",
              "101    Lung-LUNG1-372        0         3.098722            0.007326   \n",
              "102    Lung-LUNG1-376        0         2.560994            0.028270   \n",
              "103    Lung-LUNG1-400        0         2.593006            0.027493   \n",
              "104    Lung-LUNG1-404        0         2.604762            0.046848   \n",
              "105    Lung-LUNG1-416        0         2.469707            0.044568   \n",
              "\n",
              "     Fractal_sd  GLCM_autocorr  GLCM_average  GLCM_clusProm  GLCM_clusShade  \\\n",
              "0      0.380775    1554.148610     39.111534   1.783629e+05    -3594.303372   \n",
              "1      0.375576    1790.021777     42.005369   2.647405e+05    -4674.349812   \n",
              "2      0.443984    1628.190276     39.806023   6.090737e+05    -9584.571965   \n",
              "3      0.352391    1252.566529     34.181515   2.963820e+05    -4334.681781   \n",
              "4      0.426554    1481.494547     37.405211   5.180331e+05    -9435.109257   \n",
              "..          ...            ...           ...            ...             ...   \n",
              "101    0.265706     677.325939     25.701836   8.726899e+04    -1238.050759   \n",
              "102    0.430285    1222.325562     34.894029   1.999199e+04     -606.550590   \n",
              "103    0.428986    1744.446730     41.671401   3.895731e+04    -1069.070458   \n",
              "104    0.563937    1401.586546     35.734222   1.671902e+06   -11461.021850   \n",
              "105    0.521383    1722.243650     41.314825   1.196604e+05    -2611.438418   \n",
              "\n",
              "     GLCM_clusTend  ...  Wavelet_LLL_Stats_min  Wavelet_LLL_Stats_p10  \\\n",
              "0       117.538800  ...           -2758.530172            -683.716503   \n",
              "1       127.979592  ...           -3079.396865            -528.519706   \n",
              "2       219.999503  ...           -3043.138275           -1000.727775   \n",
              "3       383.335453  ...           -2623.825416           -1645.865887   \n",
              "4       365.814920  ...           -2554.446710           -1534.911582   \n",
              "..             ...  ...                    ...                    ...   \n",
              "101     170.221650  ...           -2304.078067           -1617.346865   \n",
              "102      26.450237  ...           -2210.369367            -259.349800   \n",
              "103      40.054398  ...           -2857.588489            -282.053724   \n",
              "104     652.293431  ...           -2930.871344           -1975.037808   \n",
              "105      78.416353  ...           -2580.716037            -548.002851   \n",
              "\n",
              "     Wavelet_LLL_Stats_p90  Wavelet_LLL_Stats_qcod  Wavelet_LLL_Stats_rMeanD  \\\n",
              "0               148.476658               -3.153087                145.071164   \n",
              "1               286.937701                1.656363                144.387496   \n",
              "2               214.810443               -4.122340                202.317452   \n",
              "3               204.516863               -1.170526                521.877550   \n",
              "4               274.264643               -1.939408                402.805922   \n",
              "..                     ...                     ...                       ...   \n",
              "101            -205.567579               -0.390070                310.584611   \n",
              "102             122.899574                0.474166                 43.143978   \n",
              "103             115.103033                0.434465                 42.029105   \n",
              "104             522.865218               -1.352543                504.353634   \n",
              "105             155.590938                1.274487                100.558623   \n",
              "\n",
              "     Wavelet_LLL_Stats_range  Wavelet_LLL_Stats_rms  \\\n",
              "0                4058.357210             463.390723   \n",
              "1                3651.010065             446.219771   \n",
              "2                3645.639056             621.678447   \n",
              "3                3497.116317             920.719085   \n",
              "4                5415.044835             766.378833   \n",
              "..                       ...                    ...   \n",
              "101              2483.120127            1066.377650   \n",
              "102              2507.374971             247.456980   \n",
              "103              3645.660674             281.532511   \n",
              "104              5861.814629            1036.381830   \n",
              "105              2959.848995             393.046306   \n",
              "\n",
              "     Wavelet_LLL_Stats_skewness  Wavelet_LLL_Stats_std  Wavelet_LLL_Stats_var  \n",
              "0                     -2.519866             441.454440           194882.02220  \n",
              "1                     -2.778128             446.162958           199061.38480  \n",
              "2                     -2.350933             592.559959           351127.30470  \n",
              "3                     -0.454236             715.947664           512581.05790  \n",
              "4                     -1.190941             718.242692           515872.56440  \n",
              "..                          ...                    ...                    ...  \n",
              "101                   -0.043617             515.517120           265757.90050  \n",
              "102                   -3.452542             247.399293            61206.41043  \n",
              "103                   -3.443471             280.890872            78899.68167  \n",
              "104                   -0.711930             950.097293           902684.86640  \n",
              "105                   -2.792388             388.075565           150602.64430  \n",
              "\n",
              "[106 rows x 1330 columns]"
            ],
            "text/html": [
              "\n",
              "  <div id=\"df-d0110964-649b-47dd-850d-a288eb78f7b1\">\n",
              "    <div class=\"colab-df-container\">\n",
              "      <div>\n",
              "<style scoped>\n",
              "    .dataframe tbody tr th:only-of-type {\n",
              "        vertical-align: middle;\n",
              "    }\n",
              "\n",
              "    .dataframe tbody tr th {\n",
              "        vertical-align: top;\n",
              "    }\n",
              "\n",
              "    .dataframe thead th {\n",
              "        text-align: right;\n",
              "    }\n",
              "</style>\n",
              "<table border=\"1\" class=\"dataframe\">\n",
              "  <thead>\n",
              "    <tr style=\"text-align: right;\">\n",
              "      <th></th>\n",
              "      <th>General_PatientID</th>\n",
              "      <th>Outcome</th>\n",
              "      <th>Fractal_average</th>\n",
              "      <th>Fractal_lacunarity</th>\n",
              "      <th>Fractal_sd</th>\n",
              "      <th>GLCM_autocorr</th>\n",
              "      <th>GLCM_average</th>\n",
              "      <th>GLCM_clusProm</th>\n",
              "      <th>GLCM_clusShade</th>\n",
              "      <th>GLCM_clusTend</th>\n",
              "      <th>...</th>\n",
              "      <th>Wavelet_LLL_Stats_min</th>\n",
              "      <th>Wavelet_LLL_Stats_p10</th>\n",
              "      <th>Wavelet_LLL_Stats_p90</th>\n",
              "      <th>Wavelet_LLL_Stats_qcod</th>\n",
              "      <th>Wavelet_LLL_Stats_rMeanD</th>\n",
              "      <th>Wavelet_LLL_Stats_range</th>\n",
              "      <th>Wavelet_LLL_Stats_rms</th>\n",
              "      <th>Wavelet_LLL_Stats_skewness</th>\n",
              "      <th>Wavelet_LLL_Stats_std</th>\n",
              "      <th>Wavelet_LLL_Stats_var</th>\n",
              "    </tr>\n",
              "  </thead>\n",
              "  <tbody>\n",
              "    <tr>\n",
              "      <th>0</th>\n",
              "      <td>Lung-LUNG1-004</td>\n",
              "      <td>0</td>\n",
              "      <td>2.725609</td>\n",
              "      <td>0.019518</td>\n",
              "      <td>0.380775</td>\n",
              "      <td>1554.148610</td>\n",
              "      <td>39.111534</td>\n",
              "      <td>1.783629e+05</td>\n",
              "      <td>-3594.303372</td>\n",
              "      <td>117.538800</td>\n",
              "      <td>...</td>\n",
              "      <td>-2758.530172</td>\n",
              "      <td>-683.716503</td>\n",
              "      <td>148.476658</td>\n",
              "      <td>-3.153087</td>\n",
              "      <td>145.071164</td>\n",
              "      <td>4058.357210</td>\n",
              "      <td>463.390723</td>\n",
              "      <td>-2.519866</td>\n",
              "      <td>441.454440</td>\n",
              "      <td>194882.02220</td>\n",
              "    </tr>\n",
              "    <tr>\n",
              "      <th>1</th>\n",
              "      <td>Lung-LUNG1-009</td>\n",
              "      <td>1</td>\n",
              "      <td>2.701381</td>\n",
              "      <td>0.019320</td>\n",
              "      <td>0.375576</td>\n",
              "      <td>1790.021777</td>\n",
              "      <td>42.005369</td>\n",
              "      <td>2.647405e+05</td>\n",
              "      <td>-4674.349812</td>\n",
              "      <td>127.979592</td>\n",
              "      <td>...</td>\n",
              "      <td>-3079.396865</td>\n",
              "      <td>-528.519706</td>\n",
              "      <td>286.937701</td>\n",
              "      <td>1.656363</td>\n",
              "      <td>144.387496</td>\n",
              "      <td>3651.010065</td>\n",
              "      <td>446.219771</td>\n",
              "      <td>-2.778128</td>\n",
              "      <td>446.162958</td>\n",
              "      <td>199061.38480</td>\n",
              "    </tr>\n",
              "    <tr>\n",
              "      <th>2</th>\n",
              "      <td>Lung-LUNG1-010</td>\n",
              "      <td>1</td>\n",
              "      <td>2.743509</td>\n",
              "      <td>0.026183</td>\n",
              "      <td>0.443984</td>\n",
              "      <td>1628.190276</td>\n",
              "      <td>39.806023</td>\n",
              "      <td>6.090737e+05</td>\n",
              "      <td>-9584.571965</td>\n",
              "      <td>219.999503</td>\n",
              "      <td>...</td>\n",
              "      <td>-3043.138275</td>\n",
              "      <td>-1000.727775</td>\n",
              "      <td>214.810443</td>\n",
              "      <td>-4.122340</td>\n",
              "      <td>202.317452</td>\n",
              "      <td>3645.639056</td>\n",
              "      <td>621.678447</td>\n",
              "      <td>-2.350933</td>\n",
              "      <td>592.559959</td>\n",
              "      <td>351127.30470</td>\n",
              "    </tr>\n",
              "    <tr>\n",
              "      <th>3</th>\n",
              "      <td>Lung-LUNG1-011</td>\n",
              "      <td>1</td>\n",
              "      <td>2.871822</td>\n",
              "      <td>0.015055</td>\n",
              "      <td>0.352391</td>\n",
              "      <td>1252.566529</td>\n",
              "      <td>34.181515</td>\n",
              "      <td>2.963820e+05</td>\n",
              "      <td>-4334.681781</td>\n",
              "      <td>383.335453</td>\n",
              "      <td>...</td>\n",
              "      <td>-2623.825416</td>\n",
              "      <td>-1645.865887</td>\n",
              "      <td>204.516863</td>\n",
              "      <td>-1.170526</td>\n",
              "      <td>521.877550</td>\n",
              "      <td>3497.116317</td>\n",
              "      <td>920.719085</td>\n",
              "      <td>-0.454236</td>\n",
              "      <td>715.947664</td>\n",
              "      <td>512581.05790</td>\n",
              "    </tr>\n",
              "    <tr>\n",
              "      <th>4</th>\n",
              "      <td>Lung-LUNG1-012</td>\n",
              "      <td>1</td>\n",
              "      <td>2.734307</td>\n",
              "      <td>0.024336</td>\n",
              "      <td>0.426554</td>\n",
              "      <td>1481.494547</td>\n",
              "      <td>37.405211</td>\n",
              "      <td>5.180331e+05</td>\n",
              "      <td>-9435.109257</td>\n",
              "      <td>365.814920</td>\n",
              "      <td>...</td>\n",
              "      <td>-2554.446710</td>\n",
              "      <td>-1534.911582</td>\n",
              "      <td>274.264643</td>\n",
              "      <td>-1.939408</td>\n",
              "      <td>402.805922</td>\n",
              "      <td>5415.044835</td>\n",
              "      <td>766.378833</td>\n",
              "      <td>-1.190941</td>\n",
              "      <td>718.242692</td>\n",
              "      <td>515872.56440</td>\n",
              "    </tr>\n",
              "    <tr>\n",
              "      <th>...</th>\n",
              "      <td>...</td>\n",
              "      <td>...</td>\n",
              "      <td>...</td>\n",
              "      <td>...</td>\n",
              "      <td>...</td>\n",
              "      <td>...</td>\n",
              "      <td>...</td>\n",
              "      <td>...</td>\n",
              "      <td>...</td>\n",
              "      <td>...</td>\n",
              "      <td>...</td>\n",
              "      <td>...</td>\n",
              "      <td>...</td>\n",
              "      <td>...</td>\n",
              "      <td>...</td>\n",
              "      <td>...</td>\n",
              "      <td>...</td>\n",
              "      <td>...</td>\n",
              "      <td>...</td>\n",
              "      <td>...</td>\n",
              "      <td>...</td>\n",
              "    </tr>\n",
              "    <tr>\n",
              "      <th>101</th>\n",
              "      <td>Lung-LUNG1-372</td>\n",
              "      <td>0</td>\n",
              "      <td>3.098722</td>\n",
              "      <td>0.007326</td>\n",
              "      <td>0.265706</td>\n",
              "      <td>677.325939</td>\n",
              "      <td>25.701836</td>\n",
              "      <td>8.726899e+04</td>\n",
              "      <td>-1238.050759</td>\n",
              "      <td>170.221650</td>\n",
              "      <td>...</td>\n",
              "      <td>-2304.078067</td>\n",
              "      <td>-1617.346865</td>\n",
              "      <td>-205.567579</td>\n",
              "      <td>-0.390070</td>\n",
              "      <td>310.584611</td>\n",
              "      <td>2483.120127</td>\n",
              "      <td>1066.377650</td>\n",
              "      <td>-0.043617</td>\n",
              "      <td>515.517120</td>\n",
              "      <td>265757.90050</td>\n",
              "    </tr>\n",
              "    <tr>\n",
              "      <th>102</th>\n",
              "      <td>Lung-LUNG1-376</td>\n",
              "      <td>0</td>\n",
              "      <td>2.560994</td>\n",
              "      <td>0.028270</td>\n",
              "      <td>0.430285</td>\n",
              "      <td>1222.325562</td>\n",
              "      <td>34.894029</td>\n",
              "      <td>1.999199e+04</td>\n",
              "      <td>-606.550590</td>\n",
              "      <td>26.450237</td>\n",
              "      <td>...</td>\n",
              "      <td>-2210.369367</td>\n",
              "      <td>-259.349800</td>\n",
              "      <td>122.899574</td>\n",
              "      <td>0.474166</td>\n",
              "      <td>43.143978</td>\n",
              "      <td>2507.374971</td>\n",
              "      <td>247.456980</td>\n",
              "      <td>-3.452542</td>\n",
              "      <td>247.399293</td>\n",
              "      <td>61206.41043</td>\n",
              "    </tr>\n",
              "    <tr>\n",
              "      <th>103</th>\n",
              "      <td>Lung-LUNG1-400</td>\n",
              "      <td>0</td>\n",
              "      <td>2.593006</td>\n",
              "      <td>0.027493</td>\n",
              "      <td>0.428986</td>\n",
              "      <td>1744.446730</td>\n",
              "      <td>41.671401</td>\n",
              "      <td>3.895731e+04</td>\n",
              "      <td>-1069.070458</td>\n",
              "      <td>40.054398</td>\n",
              "      <td>...</td>\n",
              "      <td>-2857.588489</td>\n",
              "      <td>-282.053724</td>\n",
              "      <td>115.103033</td>\n",
              "      <td>0.434465</td>\n",
              "      <td>42.029105</td>\n",
              "      <td>3645.660674</td>\n",
              "      <td>281.532511</td>\n",
              "      <td>-3.443471</td>\n",
              "      <td>280.890872</td>\n",
              "      <td>78899.68167</td>\n",
              "    </tr>\n",
              "    <tr>\n",
              "      <th>104</th>\n",
              "      <td>Lung-LUNG1-404</td>\n",
              "      <td>0</td>\n",
              "      <td>2.604762</td>\n",
              "      <td>0.046848</td>\n",
              "      <td>0.563937</td>\n",
              "      <td>1401.586546</td>\n",
              "      <td>35.734222</td>\n",
              "      <td>1.671902e+06</td>\n",
              "      <td>-11461.021850</td>\n",
              "      <td>652.293431</td>\n",
              "      <td>...</td>\n",
              "      <td>-2930.871344</td>\n",
              "      <td>-1975.037808</td>\n",
              "      <td>522.865218</td>\n",
              "      <td>-1.352543</td>\n",
              "      <td>504.353634</td>\n",
              "      <td>5861.814629</td>\n",
              "      <td>1036.381830</td>\n",
              "      <td>-0.711930</td>\n",
              "      <td>950.097293</td>\n",
              "      <td>902684.86640</td>\n",
              "    </tr>\n",
              "    <tr>\n",
              "      <th>105</th>\n",
              "      <td>Lung-LUNG1-416</td>\n",
              "      <td>0</td>\n",
              "      <td>2.469707</td>\n",
              "      <td>0.044568</td>\n",
              "      <td>0.521383</td>\n",
              "      <td>1722.243650</td>\n",
              "      <td>41.314825</td>\n",
              "      <td>1.196604e+05</td>\n",
              "      <td>-2611.438418</td>\n",
              "      <td>78.416353</td>\n",
              "      <td>...</td>\n",
              "      <td>-2580.716037</td>\n",
              "      <td>-548.002851</td>\n",
              "      <td>155.590938</td>\n",
              "      <td>1.274487</td>\n",
              "      <td>100.558623</td>\n",
              "      <td>2959.848995</td>\n",
              "      <td>393.046306</td>\n",
              "      <td>-2.792388</td>\n",
              "      <td>388.075565</td>\n",
              "      <td>150602.64430</td>\n",
              "    </tr>\n",
              "  </tbody>\n",
              "</table>\n",
              "<p>106 rows × 1330 columns</p>\n",
              "</div>\n",
              "      <button class=\"colab-df-convert\" onclick=\"convertToInteractive('df-d0110964-649b-47dd-850d-a288eb78f7b1')\"\n",
              "              title=\"Convert this dataframe to an interactive table.\"\n",
              "              style=\"display:none;\">\n",
              "        \n",
              "  <svg xmlns=\"http://www.w3.org/2000/svg\" height=\"24px\"viewBox=\"0 0 24 24\"\n",
              "       width=\"24px\">\n",
              "    <path d=\"M0 0h24v24H0V0z\" fill=\"none\"/>\n",
              "    <path d=\"M18.56 5.44l.94 2.06.94-2.06 2.06-.94-2.06-.94-.94-2.06-.94 2.06-2.06.94zm-11 1L8.5 8.5l.94-2.06 2.06-.94-2.06-.94L8.5 2.5l-.94 2.06-2.06.94zm10 10l.94 2.06.94-2.06 2.06-.94-2.06-.94-.94-2.06-.94 2.06-2.06.94z\"/><path d=\"M17.41 7.96l-1.37-1.37c-.4-.4-.92-.59-1.43-.59-.52 0-1.04.2-1.43.59L10.3 9.45l-7.72 7.72c-.78.78-.78 2.05 0 2.83L4 21.41c.39.39.9.59 1.41.59.51 0 1.02-.2 1.41-.59l7.78-7.78 2.81-2.81c.8-.78.8-2.07 0-2.86zM5.41 20L4 18.59l7.72-7.72 1.47 1.35L5.41 20z\"/>\n",
              "  </svg>\n",
              "      </button>\n",
              "      \n",
              "  <style>\n",
              "    .colab-df-container {\n",
              "      display:flex;\n",
              "      flex-wrap:wrap;\n",
              "      gap: 12px;\n",
              "    }\n",
              "\n",
              "    .colab-df-convert {\n",
              "      background-color: #E8F0FE;\n",
              "      border: none;\n",
              "      border-radius: 50%;\n",
              "      cursor: pointer;\n",
              "      display: none;\n",
              "      fill: #1967D2;\n",
              "      height: 32px;\n",
              "      padding: 0 0 0 0;\n",
              "      width: 32px;\n",
              "    }\n",
              "\n",
              "    .colab-df-convert:hover {\n",
              "      background-color: #E2EBFA;\n",
              "      box-shadow: 0px 1px 2px rgba(60, 64, 67, 0.3), 0px 1px 3px 1px rgba(60, 64, 67, 0.15);\n",
              "      fill: #174EA6;\n",
              "    }\n",
              "\n",
              "    [theme=dark] .colab-df-convert {\n",
              "      background-color: #3B4455;\n",
              "      fill: #D2E3FC;\n",
              "    }\n",
              "\n",
              "    [theme=dark] .colab-df-convert:hover {\n",
              "      background-color: #434B5C;\n",
              "      box-shadow: 0px 1px 3px 1px rgba(0, 0, 0, 0.15);\n",
              "      filter: drop-shadow(0px 1px 2px rgba(0, 0, 0, 0.3));\n",
              "      fill: #FFFFFF;\n",
              "    }\n",
              "  </style>\n",
              "\n",
              "      <script>\n",
              "        const buttonEl =\n",
              "          document.querySelector('#df-d0110964-649b-47dd-850d-a288eb78f7b1 button.colab-df-convert');\n",
              "        buttonEl.style.display =\n",
              "          google.colab.kernel.accessAllowed ? 'block' : 'none';\n",
              "\n",
              "        async function convertToInteractive(key) {\n",
              "          const element = document.querySelector('#df-d0110964-649b-47dd-850d-a288eb78f7b1');\n",
              "          const dataTable =\n",
              "            await google.colab.kernel.invokeFunction('convertToInteractive',\n",
              "                                                     [key], {});\n",
              "          if (!dataTable) return;\n",
              "\n",
              "          const docLinkHtml = 'Like what you see? Visit the ' +\n",
              "            '<a target=\"_blank\" href=https://colab.research.google.com/notebooks/data_table.ipynb>data table notebook</a>'\n",
              "            + ' to learn more about interactive tables.';\n",
              "          element.innerHTML = '';\n",
              "          dataTable['output_type'] = 'display_data';\n",
              "          await google.colab.output.renderOutput(dataTable, element);\n",
              "          const docLink = document.createElement('div');\n",
              "          docLink.innerHTML = docLinkHtml;\n",
              "          element.appendChild(docLink);\n",
              "        }\n",
              "      </script>\n",
              "    </div>\n",
              "  </div>\n",
              "  "
            ]
          },
          "metadata": {},
          "execution_count": 22
        }
      ]
    },
    {
      "cell_type": "markdown",
      "source": [
        "<b>Getting the features and defining the outcome</b>\n",
        "\n",
        "It's a good time to look at the .csv files using MS Excel or similar software. IF the data looks jumbled up, try \"importing from text\". Ask a helper if you need assistance with this. Let's get the list of the features from the .csv header first:"
      ],
      "metadata": {
        "id": "_FoSexoRwOm8"
      }
    },
    {
      "cell_type": "code",
      "source": [
        "features = data_train.columns[2:]\n",
        "\n",
        "print (features)"
      ],
      "metadata": {
        "colab": {
          "base_uri": "https://localhost:8080/"
        },
        "id": "-NbbS-JbwePK",
        "outputId": "c112157f-c9c2-4a0f-bdc5-d2292228a302"
      },
      "execution_count": null,
      "outputs": [
        {
          "output_type": "stream",
          "name": "stdout",
          "text": [
            "Index(['Fractal_average', 'Fractal_lacunarity', 'Fractal_sd', 'GLCM_autocorr',\n",
            "       'GLCM_average', 'GLCM_clusProm', 'GLCM_clusShade', 'GLCM_clusTend',\n",
            "       'GLCM_contrast', 'GLCM_correl1',\n",
            "       ...\n",
            "       'Wavelet_LLL_Stats_min', 'Wavelet_LLL_Stats_p10',\n",
            "       'Wavelet_LLL_Stats_p90', 'Wavelet_LLL_Stats_qcod',\n",
            "       'Wavelet_LLL_Stats_rMeanD', 'Wavelet_LLL_Stats_range',\n",
            "       'Wavelet_LLL_Stats_rms', 'Wavelet_LLL_Stats_skewness',\n",
            "       'Wavelet_LLL_Stats_std', 'Wavelet_LLL_Stats_var'],\n",
            "      dtype='object', length=1328)\n"
          ]
        }
      ]
    },
    {
      "cell_type": "markdown",
      "source": [
        "Separate the features and the outcomes:"
      ],
      "metadata": {
        "id": "LLgipVwkwlj5"
      }
    },
    {
      "cell_type": "code",
      "source": [
        "outcome_train = data_train['Outcome']\n",
        "outcome_test = data_test['Outcome']\n",
        "data_train = data_train[features]\n",
        "data_test = data_test[features]\n",
        "\n",
        "# checking how the features dataframe looks like\n",
        "data_test"
      ],
      "metadata": {
        "colab": {
          "base_uri": "https://localhost:8080/",
          "height": 488
        },
        "id": "eRAc1kzqwoQ-",
        "outputId": "31eb613f-d06d-4b9b-9278-76755eca4379"
      },
      "execution_count": null,
      "outputs": [
        {
          "output_type": "execute_result",
          "data": {
            "text/plain": [
              "     Fractal_average  Fractal_lacunarity  Fractal_sd  GLCM_autocorr  \\\n",
              "0           2.725609            0.019518    0.380775    1554.148610   \n",
              "1           2.701381            0.019320    0.375576    1790.021777   \n",
              "2           2.743509            0.026183    0.443984    1628.190276   \n",
              "3           2.871822            0.015055    0.352391    1252.566529   \n",
              "4           2.734307            0.024336    0.426554    1481.494547   \n",
              "..               ...                 ...         ...            ...   \n",
              "101         3.098722            0.007326    0.265706     677.325939   \n",
              "102         2.560994            0.028270    0.430285    1222.325562   \n",
              "103         2.593006            0.027493    0.428986    1744.446730   \n",
              "104         2.604762            0.046848    0.563937    1401.586546   \n",
              "105         2.469707            0.044568    0.521383    1722.243650   \n",
              "\n",
              "     GLCM_average  GLCM_clusProm  GLCM_clusShade  GLCM_clusTend  \\\n",
              "0       39.111534   1.783629e+05    -3594.303372     117.538800   \n",
              "1       42.005369   2.647405e+05    -4674.349812     127.979592   \n",
              "2       39.806023   6.090737e+05    -9584.571965     219.999503   \n",
              "3       34.181515   2.963820e+05    -4334.681781     383.335453   \n",
              "4       37.405211   5.180331e+05    -9435.109257     365.814920   \n",
              "..            ...            ...             ...            ...   \n",
              "101     25.701836   8.726899e+04    -1238.050759     170.221650   \n",
              "102     34.894029   1.999199e+04     -606.550590      26.450237   \n",
              "103     41.671401   3.895731e+04    -1069.070458      40.054398   \n",
              "104     35.734222   1.671902e+06   -11461.021850     652.293431   \n",
              "105     41.314825   1.196604e+05    -2611.438418      78.416353   \n",
              "\n",
              "     GLCM_contrast  GLCM_correl1  ...  Wavelet_LLL_Stats_min  \\\n",
              "0        19.912318      0.700714  ...           -2758.530172   \n",
              "1        25.869749      0.654278  ...           -3079.396865   \n",
              "2        45.789948      0.642967  ...           -3043.138275   \n",
              "3        47.145391      0.777697  ...           -2623.825416   \n",
              "4        36.824258      0.812649  ...           -2554.446710   \n",
              "..             ...           ...  ...                    ...   \n",
              "101     104.153328      0.248967  ...           -2304.078067   \n",
              "102       7.585557      0.513773  ...           -2210.369367   \n",
              "103       8.378413      0.623515  ...           -2857.588489   \n",
              "104     153.952311      0.613089  ...           -2930.871344   \n",
              "105      17.214592      0.624424  ...           -2580.716037   \n",
              "\n",
              "     Wavelet_LLL_Stats_p10  Wavelet_LLL_Stats_p90  Wavelet_LLL_Stats_qcod  \\\n",
              "0              -683.716503             148.476658               -3.153087   \n",
              "1              -528.519706             286.937701                1.656363   \n",
              "2             -1000.727775             214.810443               -4.122340   \n",
              "3             -1645.865887             204.516863               -1.170526   \n",
              "4             -1534.911582             274.264643               -1.939408   \n",
              "..                     ...                    ...                     ...   \n",
              "101           -1617.346865            -205.567579               -0.390070   \n",
              "102            -259.349800             122.899574                0.474166   \n",
              "103            -282.053724             115.103033                0.434465   \n",
              "104           -1975.037808             522.865218               -1.352543   \n",
              "105            -548.002851             155.590938                1.274487   \n",
              "\n",
              "     Wavelet_LLL_Stats_rMeanD  Wavelet_LLL_Stats_range  Wavelet_LLL_Stats_rms  \\\n",
              "0                  145.071164              4058.357210             463.390723   \n",
              "1                  144.387496              3651.010065             446.219771   \n",
              "2                  202.317452              3645.639056             621.678447   \n",
              "3                  521.877550              3497.116317             920.719085   \n",
              "4                  402.805922              5415.044835             766.378833   \n",
              "..                        ...                      ...                    ...   \n",
              "101                310.584611              2483.120127            1066.377650   \n",
              "102                 43.143978              2507.374971             247.456980   \n",
              "103                 42.029105              3645.660674             281.532511   \n",
              "104                504.353634              5861.814629            1036.381830   \n",
              "105                100.558623              2959.848995             393.046306   \n",
              "\n",
              "     Wavelet_LLL_Stats_skewness  Wavelet_LLL_Stats_std  Wavelet_LLL_Stats_var  \n",
              "0                     -2.519866             441.454440           194882.02220  \n",
              "1                     -2.778128             446.162958           199061.38480  \n",
              "2                     -2.350933             592.559959           351127.30470  \n",
              "3                     -0.454236             715.947664           512581.05790  \n",
              "4                     -1.190941             718.242692           515872.56440  \n",
              "..                          ...                    ...                    ...  \n",
              "101                   -0.043617             515.517120           265757.90050  \n",
              "102                   -3.452542             247.399293            61206.41043  \n",
              "103                   -3.443471             280.890872            78899.68167  \n",
              "104                   -0.711930             950.097293           902684.86640  \n",
              "105                   -2.792388             388.075565           150602.64430  \n",
              "\n",
              "[106 rows x 1328 columns]"
            ],
            "text/html": [
              "\n",
              "  <div id=\"df-27444f0c-6488-4f51-919e-166811108393\">\n",
              "    <div class=\"colab-df-container\">\n",
              "      <div>\n",
              "<style scoped>\n",
              "    .dataframe tbody tr th:only-of-type {\n",
              "        vertical-align: middle;\n",
              "    }\n",
              "\n",
              "    .dataframe tbody tr th {\n",
              "        vertical-align: top;\n",
              "    }\n",
              "\n",
              "    .dataframe thead th {\n",
              "        text-align: right;\n",
              "    }\n",
              "</style>\n",
              "<table border=\"1\" class=\"dataframe\">\n",
              "  <thead>\n",
              "    <tr style=\"text-align: right;\">\n",
              "      <th></th>\n",
              "      <th>Fractal_average</th>\n",
              "      <th>Fractal_lacunarity</th>\n",
              "      <th>Fractal_sd</th>\n",
              "      <th>GLCM_autocorr</th>\n",
              "      <th>GLCM_average</th>\n",
              "      <th>GLCM_clusProm</th>\n",
              "      <th>GLCM_clusShade</th>\n",
              "      <th>GLCM_clusTend</th>\n",
              "      <th>GLCM_contrast</th>\n",
              "      <th>GLCM_correl1</th>\n",
              "      <th>...</th>\n",
              "      <th>Wavelet_LLL_Stats_min</th>\n",
              "      <th>Wavelet_LLL_Stats_p10</th>\n",
              "      <th>Wavelet_LLL_Stats_p90</th>\n",
              "      <th>Wavelet_LLL_Stats_qcod</th>\n",
              "      <th>Wavelet_LLL_Stats_rMeanD</th>\n",
              "      <th>Wavelet_LLL_Stats_range</th>\n",
              "      <th>Wavelet_LLL_Stats_rms</th>\n",
              "      <th>Wavelet_LLL_Stats_skewness</th>\n",
              "      <th>Wavelet_LLL_Stats_std</th>\n",
              "      <th>Wavelet_LLL_Stats_var</th>\n",
              "    </tr>\n",
              "  </thead>\n",
              "  <tbody>\n",
              "    <tr>\n",
              "      <th>0</th>\n",
              "      <td>2.725609</td>\n",
              "      <td>0.019518</td>\n",
              "      <td>0.380775</td>\n",
              "      <td>1554.148610</td>\n",
              "      <td>39.111534</td>\n",
              "      <td>1.783629e+05</td>\n",
              "      <td>-3594.303372</td>\n",
              "      <td>117.538800</td>\n",
              "      <td>19.912318</td>\n",
              "      <td>0.700714</td>\n",
              "      <td>...</td>\n",
              "      <td>-2758.530172</td>\n",
              "      <td>-683.716503</td>\n",
              "      <td>148.476658</td>\n",
              "      <td>-3.153087</td>\n",
              "      <td>145.071164</td>\n",
              "      <td>4058.357210</td>\n",
              "      <td>463.390723</td>\n",
              "      <td>-2.519866</td>\n",
              "      <td>441.454440</td>\n",
              "      <td>194882.02220</td>\n",
              "    </tr>\n",
              "    <tr>\n",
              "      <th>1</th>\n",
              "      <td>2.701381</td>\n",
              "      <td>0.019320</td>\n",
              "      <td>0.375576</td>\n",
              "      <td>1790.021777</td>\n",
              "      <td>42.005369</td>\n",
              "      <td>2.647405e+05</td>\n",
              "      <td>-4674.349812</td>\n",
              "      <td>127.979592</td>\n",
              "      <td>25.869749</td>\n",
              "      <td>0.654278</td>\n",
              "      <td>...</td>\n",
              "      <td>-3079.396865</td>\n",
              "      <td>-528.519706</td>\n",
              "      <td>286.937701</td>\n",
              "      <td>1.656363</td>\n",
              "      <td>144.387496</td>\n",
              "      <td>3651.010065</td>\n",
              "      <td>446.219771</td>\n",
              "      <td>-2.778128</td>\n",
              "      <td>446.162958</td>\n",
              "      <td>199061.38480</td>\n",
              "    </tr>\n",
              "    <tr>\n",
              "      <th>2</th>\n",
              "      <td>2.743509</td>\n",
              "      <td>0.026183</td>\n",
              "      <td>0.443984</td>\n",
              "      <td>1628.190276</td>\n",
              "      <td>39.806023</td>\n",
              "      <td>6.090737e+05</td>\n",
              "      <td>-9584.571965</td>\n",
              "      <td>219.999503</td>\n",
              "      <td>45.789948</td>\n",
              "      <td>0.642967</td>\n",
              "      <td>...</td>\n",
              "      <td>-3043.138275</td>\n",
              "      <td>-1000.727775</td>\n",
              "      <td>214.810443</td>\n",
              "      <td>-4.122340</td>\n",
              "      <td>202.317452</td>\n",
              "      <td>3645.639056</td>\n",
              "      <td>621.678447</td>\n",
              "      <td>-2.350933</td>\n",
              "      <td>592.559959</td>\n",
              "      <td>351127.30470</td>\n",
              "    </tr>\n",
              "    <tr>\n",
              "      <th>3</th>\n",
              "      <td>2.871822</td>\n",
              "      <td>0.015055</td>\n",
              "      <td>0.352391</td>\n",
              "      <td>1252.566529</td>\n",
              "      <td>34.181515</td>\n",
              "      <td>2.963820e+05</td>\n",
              "      <td>-4334.681781</td>\n",
              "      <td>383.335453</td>\n",
              "      <td>47.145391</td>\n",
              "      <td>0.777697</td>\n",
              "      <td>...</td>\n",
              "      <td>-2623.825416</td>\n",
              "      <td>-1645.865887</td>\n",
              "      <td>204.516863</td>\n",
              "      <td>-1.170526</td>\n",
              "      <td>521.877550</td>\n",
              "      <td>3497.116317</td>\n",
              "      <td>920.719085</td>\n",
              "      <td>-0.454236</td>\n",
              "      <td>715.947664</td>\n",
              "      <td>512581.05790</td>\n",
              "    </tr>\n",
              "    <tr>\n",
              "      <th>4</th>\n",
              "      <td>2.734307</td>\n",
              "      <td>0.024336</td>\n",
              "      <td>0.426554</td>\n",
              "      <td>1481.494547</td>\n",
              "      <td>37.405211</td>\n",
              "      <td>5.180331e+05</td>\n",
              "      <td>-9435.109257</td>\n",
              "      <td>365.814920</td>\n",
              "      <td>36.824258</td>\n",
              "      <td>0.812649</td>\n",
              "      <td>...</td>\n",
              "      <td>-2554.446710</td>\n",
              "      <td>-1534.911582</td>\n",
              "      <td>274.264643</td>\n",
              "      <td>-1.939408</td>\n",
              "      <td>402.805922</td>\n",
              "      <td>5415.044835</td>\n",
              "      <td>766.378833</td>\n",
              "      <td>-1.190941</td>\n",
              "      <td>718.242692</td>\n",
              "      <td>515872.56440</td>\n",
              "    </tr>\n",
              "    <tr>\n",
              "      <th>...</th>\n",
              "      <td>...</td>\n",
              "      <td>...</td>\n",
              "      <td>...</td>\n",
              "      <td>...</td>\n",
              "      <td>...</td>\n",
              "      <td>...</td>\n",
              "      <td>...</td>\n",
              "      <td>...</td>\n",
              "      <td>...</td>\n",
              "      <td>...</td>\n",
              "      <td>...</td>\n",
              "      <td>...</td>\n",
              "      <td>...</td>\n",
              "      <td>...</td>\n",
              "      <td>...</td>\n",
              "      <td>...</td>\n",
              "      <td>...</td>\n",
              "      <td>...</td>\n",
              "      <td>...</td>\n",
              "      <td>...</td>\n",
              "      <td>...</td>\n",
              "    </tr>\n",
              "    <tr>\n",
              "      <th>101</th>\n",
              "      <td>3.098722</td>\n",
              "      <td>0.007326</td>\n",
              "      <td>0.265706</td>\n",
              "      <td>677.325939</td>\n",
              "      <td>25.701836</td>\n",
              "      <td>8.726899e+04</td>\n",
              "      <td>-1238.050759</td>\n",
              "      <td>170.221650</td>\n",
              "      <td>104.153328</td>\n",
              "      <td>0.248967</td>\n",
              "      <td>...</td>\n",
              "      <td>-2304.078067</td>\n",
              "      <td>-1617.346865</td>\n",
              "      <td>-205.567579</td>\n",
              "      <td>-0.390070</td>\n",
              "      <td>310.584611</td>\n",
              "      <td>2483.120127</td>\n",
              "      <td>1066.377650</td>\n",
              "      <td>-0.043617</td>\n",
              "      <td>515.517120</td>\n",
              "      <td>265757.90050</td>\n",
              "    </tr>\n",
              "    <tr>\n",
              "      <th>102</th>\n",
              "      <td>2.560994</td>\n",
              "      <td>0.028270</td>\n",
              "      <td>0.430285</td>\n",
              "      <td>1222.325562</td>\n",
              "      <td>34.894029</td>\n",
              "      <td>1.999199e+04</td>\n",
              "      <td>-606.550590</td>\n",
              "      <td>26.450237</td>\n",
              "      <td>7.585557</td>\n",
              "      <td>0.513773</td>\n",
              "      <td>...</td>\n",
              "      <td>-2210.369367</td>\n",
              "      <td>-259.349800</td>\n",
              "      <td>122.899574</td>\n",
              "      <td>0.474166</td>\n",
              "      <td>43.143978</td>\n",
              "      <td>2507.374971</td>\n",
              "      <td>247.456980</td>\n",
              "      <td>-3.452542</td>\n",
              "      <td>247.399293</td>\n",
              "      <td>61206.41043</td>\n",
              "    </tr>\n",
              "    <tr>\n",
              "      <th>103</th>\n",
              "      <td>2.593006</td>\n",
              "      <td>0.027493</td>\n",
              "      <td>0.428986</td>\n",
              "      <td>1744.446730</td>\n",
              "      <td>41.671401</td>\n",
              "      <td>3.895731e+04</td>\n",
              "      <td>-1069.070458</td>\n",
              "      <td>40.054398</td>\n",
              "      <td>8.378413</td>\n",
              "      <td>0.623515</td>\n",
              "      <td>...</td>\n",
              "      <td>-2857.588489</td>\n",
              "      <td>-282.053724</td>\n",
              "      <td>115.103033</td>\n",
              "      <td>0.434465</td>\n",
              "      <td>42.029105</td>\n",
              "      <td>3645.660674</td>\n",
              "      <td>281.532511</td>\n",
              "      <td>-3.443471</td>\n",
              "      <td>280.890872</td>\n",
              "      <td>78899.68167</td>\n",
              "    </tr>\n",
              "    <tr>\n",
              "      <th>104</th>\n",
              "      <td>2.604762</td>\n",
              "      <td>0.046848</td>\n",
              "      <td>0.563937</td>\n",
              "      <td>1401.586546</td>\n",
              "      <td>35.734222</td>\n",
              "      <td>1.671902e+06</td>\n",
              "      <td>-11461.021850</td>\n",
              "      <td>652.293431</td>\n",
              "      <td>153.952311</td>\n",
              "      <td>0.613089</td>\n",
              "      <td>...</td>\n",
              "      <td>-2930.871344</td>\n",
              "      <td>-1975.037808</td>\n",
              "      <td>522.865218</td>\n",
              "      <td>-1.352543</td>\n",
              "      <td>504.353634</td>\n",
              "      <td>5861.814629</td>\n",
              "      <td>1036.381830</td>\n",
              "      <td>-0.711930</td>\n",
              "      <td>950.097293</td>\n",
              "      <td>902684.86640</td>\n",
              "    </tr>\n",
              "    <tr>\n",
              "      <th>105</th>\n",
              "      <td>2.469707</td>\n",
              "      <td>0.044568</td>\n",
              "      <td>0.521383</td>\n",
              "      <td>1722.243650</td>\n",
              "      <td>41.314825</td>\n",
              "      <td>1.196604e+05</td>\n",
              "      <td>-2611.438418</td>\n",
              "      <td>78.416353</td>\n",
              "      <td>17.214592</td>\n",
              "      <td>0.624424</td>\n",
              "      <td>...</td>\n",
              "      <td>-2580.716037</td>\n",
              "      <td>-548.002851</td>\n",
              "      <td>155.590938</td>\n",
              "      <td>1.274487</td>\n",
              "      <td>100.558623</td>\n",
              "      <td>2959.848995</td>\n",
              "      <td>393.046306</td>\n",
              "      <td>-2.792388</td>\n",
              "      <td>388.075565</td>\n",
              "      <td>150602.64430</td>\n",
              "    </tr>\n",
              "  </tbody>\n",
              "</table>\n",
              "<p>106 rows × 1328 columns</p>\n",
              "</div>\n",
              "      <button class=\"colab-df-convert\" onclick=\"convertToInteractive('df-27444f0c-6488-4f51-919e-166811108393')\"\n",
              "              title=\"Convert this dataframe to an interactive table.\"\n",
              "              style=\"display:none;\">\n",
              "        \n",
              "  <svg xmlns=\"http://www.w3.org/2000/svg\" height=\"24px\"viewBox=\"0 0 24 24\"\n",
              "       width=\"24px\">\n",
              "    <path d=\"M0 0h24v24H0V0z\" fill=\"none\"/>\n",
              "    <path d=\"M18.56 5.44l.94 2.06.94-2.06 2.06-.94-2.06-.94-.94-2.06-.94 2.06-2.06.94zm-11 1L8.5 8.5l.94-2.06 2.06-.94-2.06-.94L8.5 2.5l-.94 2.06-2.06.94zm10 10l.94 2.06.94-2.06 2.06-.94-2.06-.94-.94-2.06-.94 2.06-2.06.94z\"/><path d=\"M17.41 7.96l-1.37-1.37c-.4-.4-.92-.59-1.43-.59-.52 0-1.04.2-1.43.59L10.3 9.45l-7.72 7.72c-.78.78-.78 2.05 0 2.83L4 21.41c.39.39.9.59 1.41.59.51 0 1.02-.2 1.41-.59l7.78-7.78 2.81-2.81c.8-.78.8-2.07 0-2.86zM5.41 20L4 18.59l7.72-7.72 1.47 1.35L5.41 20z\"/>\n",
              "  </svg>\n",
              "      </button>\n",
              "      \n",
              "  <style>\n",
              "    .colab-df-container {\n",
              "      display:flex;\n",
              "      flex-wrap:wrap;\n",
              "      gap: 12px;\n",
              "    }\n",
              "\n",
              "    .colab-df-convert {\n",
              "      background-color: #E8F0FE;\n",
              "      border: none;\n",
              "      border-radius: 50%;\n",
              "      cursor: pointer;\n",
              "      display: none;\n",
              "      fill: #1967D2;\n",
              "      height: 32px;\n",
              "      padding: 0 0 0 0;\n",
              "      width: 32px;\n",
              "    }\n",
              "\n",
              "    .colab-df-convert:hover {\n",
              "      background-color: #E2EBFA;\n",
              "      box-shadow: 0px 1px 2px rgba(60, 64, 67, 0.3), 0px 1px 3px 1px rgba(60, 64, 67, 0.15);\n",
              "      fill: #174EA6;\n",
              "    }\n",
              "\n",
              "    [theme=dark] .colab-df-convert {\n",
              "      background-color: #3B4455;\n",
              "      fill: #D2E3FC;\n",
              "    }\n",
              "\n",
              "    [theme=dark] .colab-df-convert:hover {\n",
              "      background-color: #434B5C;\n",
              "      box-shadow: 0px 1px 3px 1px rgba(0, 0, 0, 0.15);\n",
              "      filter: drop-shadow(0px 1px 2px rgba(0, 0, 0, 0.3));\n",
              "      fill: #FFFFFF;\n",
              "    }\n",
              "  </style>\n",
              "\n",
              "      <script>\n",
              "        const buttonEl =\n",
              "          document.querySelector('#df-27444f0c-6488-4f51-919e-166811108393 button.colab-df-convert');\n",
              "        buttonEl.style.display =\n",
              "          google.colab.kernel.accessAllowed ? 'block' : 'none';\n",
              "\n",
              "        async function convertToInteractive(key) {\n",
              "          const element = document.querySelector('#df-27444f0c-6488-4f51-919e-166811108393');\n",
              "          const dataTable =\n",
              "            await google.colab.kernel.invokeFunction('convertToInteractive',\n",
              "                                                     [key], {});\n",
              "          if (!dataTable) return;\n",
              "\n",
              "          const docLinkHtml = 'Like what you see? Visit the ' +\n",
              "            '<a target=\"_blank\" href=https://colab.research.google.com/notebooks/data_table.ipynb>data table notebook</a>'\n",
              "            + ' to learn more about interactive tables.';\n",
              "          element.innerHTML = '';\n",
              "          dataTable['output_type'] = 'display_data';\n",
              "          await google.colab.output.renderOutput(dataTable, element);\n",
              "          const docLink = document.createElement('div');\n",
              "          docLink.innerHTML = docLinkHtml;\n",
              "          element.appendChild(docLink);\n",
              "        }\n",
              "      </script>\n",
              "    </div>\n",
              "  </div>\n",
              "  "
            ]
          },
          "metadata": {},
          "execution_count": 24
        }
      ]
    },
    {
      "cell_type": "markdown",
      "source": [
        "## Exploratory data analysis\n",
        "\n",
        "Before building the models, it is always useful to perform the exploratory data analysis to have a look at the data, understand the distribution of the features, and notice some data errors. To perform these steps, we will be using precision-medicine-toolbox (https://github.com/primakov/precision-medicine-toolbox), an open-source Python package, developed in the D-Lab, Maastricht University.  \n",
        "  \n",
        "Remember that for now, everything happens in the training data. Time to discuss why this is so important!  "
      ],
      "metadata": {
        "id": "aBm8KYFpyZTW"
      }
    },
    {
      "cell_type": "code",
      "source": [
        "# let's list the parameters of our features dataset\n",
        "parameters = {\n",
        "    'feature_path': \"/content/drive/MyDrive/AI4I_Radiomics_Beginners_Data/data_features/WS2022_Beginners_TrainingSet.csv\", # path to csv/xls file with features\n",
        "    'outcome_path': \"/content/drive/MyDrive/AI4I_Radiomics_Beginners_Data/data_features/WS2022_Beginners_TrainingSet.csv\", #path to csv/xls file with outcome (in our case - the same file)\n",
        "    'patient_column': 'General_PatientID', # name of column with patient ID\n",
        "    'patient_in_outcome_column': 'General_PatientID', # name of column with patient ID in clinical data file\n",
        "    'outcome_column': 'Outcome' # name of outcome column\n",
        "}\n",
        "\n",
        "# initializing the dataset, containing features\n",
        "fs = AnalysisBox(**parameters)"
      ],
      "metadata": {
        "colab": {
          "base_uri": "https://localhost:8080/"
        },
        "id": "paW5Ay4lyhi4",
        "outputId": "b3ab3b28-26f8-4f0f-917d-c2a4eddab148"
      },
      "execution_count": null,
      "outputs": [
        {
          "output_type": "stream",
          "name": "stdout",
          "text": [
            "Number of observations: 253\n",
            "Class labels: ['0' '1']\n",
            "Classes balance: [0.7509881422924901, 0.2490118577075099]\n"
          ]
        }
      ]
    },
    {
      "cell_type": "markdown",
      "source": [
        "Plotting feature distributions for the first 80 features to have a visual understanding about feature distributions in classes."
      ],
      "metadata": {
        "id": "U_EgaYg4ykq-"
      }
    },
    {
      "cell_type": "code",
      "source": [
        "fs.plot_distribution(fs._feature_column[:80])"
      ],
      "metadata": {
        "id": "G37us_8FymlQ"
      },
      "execution_count": null,
      "outputs": []
    },
    {
      "cell_type": "markdown",
      "source": [
        "Plotting the correlation matrix for the first 80 features to have an idea about how many features are inter-correlated. Why is it important to know about the mutual feature correlation?"
      ],
      "metadata": {
        "id": "DvfwDvlnyplK"
      }
    },
    {
      "cell_type": "code",
      "source": [
        "fs.plot_correlation_matrix(fs._feature_column[:80])"
      ],
      "metadata": {
        "id": "igN2PiRyyrNL"
      },
      "execution_count": null,
      "outputs": []
    },
    {
      "cell_type": "markdown",
      "source": [
        "Performing Mann-Whitney U-test (with False Discovery Rate correction) to see if the feature distributions in classes are statistically different (for the first 80 features)."
      ],
      "metadata": {
        "id": "RzLIHLwNytEG"
      }
    },
    {
      "cell_type": "code",
      "source": [
        "fs.plot_MW_p(fs._feature_column[:80])"
      ],
      "metadata": {
        "id": "wbmFZWfTywa5"
      },
      "execution_count": null,
      "outputs": []
    },
    {
      "cell_type": "markdown",
      "source": [
        "Plotting univariate ROC curves and calculating AUC scores to have some estimation of the predictive power of every separate feature (for the first 80 features). Can we just build a classifer based on the best feature?"
      ],
      "metadata": {
        "id": "idLMYzbVyybP"
      }
    },
    {
      "cell_type": "code",
      "source": [
        "fs.plot_univariate_roc(fs._feature_column[:80], auc_threshold=0.70)"
      ],
      "metadata": {
        "id": "QRfw0MIay2XS"
      },
      "execution_count": null,
      "outputs": []
    },
    {
      "cell_type": "markdown",
      "source": [
        "Performing volumetric analysis to understand if our features are correlated to ROI volume and if the volume itself is a good predictor for our task. Why is it important to know if the features are correlated to volume?"
      ],
      "metadata": {
        "id": "LsX4cex6y4vp"
      }
    },
    {
      "cell_type": "code",
      "source": [
        "fs.volume_analysis(volume_feature='Shape_volume', corr_threshold=0.75)"
      ],
      "metadata": {
        "id": "0gaI7isky6ou"
      },
      "execution_count": null,
      "outputs": []
    },
    {
      "cell_type": "markdown",
      "source": [
        "Writing the basic statistics for every feature into .csv file and having a look at the resulting dataframe."
      ],
      "metadata": {
        "id": "ce691Exmy8oy"
      }
    },
    {
      "cell_type": "code",
      "source": [
        "fs.calculate_basic_stats(volume_feature='Shape_volume')\n",
        "\n",
        "print('Basic statistics for each feature')\n",
        "pd.read_excel('/content/drive/MyDrive/AI4I_Radiomics_Beginners_Data/data_features/WS2022_Beginners_TrainingSet_basic_stats.xlsx')"
      ],
      "metadata": {
        "colab": {
          "base_uri": "https://localhost:8080/",
          "height": 441
        },
        "id": "rEjH5fW9zDaV",
        "outputId": "a8c9e786-2963-4adf-dc99-2a69b285c1ce"
      },
      "execution_count": null,
      "outputs": [
        {
          "output_type": "stream",
          "name": "stdout",
          "text": [
            "Basic statistics for each feature\n"
          ]
        },
        {
          "output_type": "execute_result",
          "data": {
            "text/plain": [
              "                      Unnamed: 0  NaN           Mean            Std  \\\n",
              "0                Fractal_average    0       2.755233       0.148151   \n",
              "1             Fractal_lacunarity    0       0.025118       0.010872   \n",
              "2                     Fractal_sd    0       0.422098       0.078848   \n",
              "3                  GLCM_autocorr    0    1298.254433     386.732815   \n",
              "4                   GLCM_average    0      35.043349       6.074889   \n",
              "...                          ...  ...            ...            ...   \n",
              "1323     Wavelet_LLL_Stats_range    0    3544.350273    1158.342336   \n",
              "1324       Wavelet_LLL_Stats_rms    0     591.187677     310.121504   \n",
              "1325  Wavelet_LLL_Stats_skewness    0      -1.899758       1.694237   \n",
              "1326       Wavelet_LLL_Stats_std    0     487.706299     199.261718   \n",
              "1327       Wavelet_LLL_Stats_var    0  277405.728950  215180.552169   \n",
              "\n",
              "              Min           Max  p_MW_corrected  univar_auc  volume_corr  \n",
              "0        2.473827  3.209988e+00        1.000000    0.598037    -0.333539  \n",
              "1        0.005735  6.189692e-02        1.000000    0.600000     0.261188  \n",
              "2        0.231447  6.447991e-01        1.000000    0.600835     0.241067  \n",
              "3      266.588471  1.976785e+03        0.440951    0.646074     0.676539  \n",
              "4       12.629367  4.441698e+01        1.000000    0.635422     0.677726  \n",
              "...           ...           ...             ...         ...          ...  \n",
              "1323  1552.277785  1.280288e+04        1.000000    0.617084     0.682947  \n",
              "1324   116.255732  1.729048e+03        1.000000    0.514620    -0.555857  \n",
              "1325   -12.684892  2.195273e+00        1.000000    0.537970    -0.581629  \n",
              "1326    77.561006  1.179729e+03        1.000000    0.520718    -0.417745  \n",
              "1327  6015.709643  1.391761e+06        1.000000    0.520384    -0.417745  \n",
              "\n",
              "[1328 rows x 9 columns]"
            ],
            "text/html": [
              "\n",
              "  <div id=\"df-f36764ef-4447-4016-a0fe-cfc876d01c15\">\n",
              "    <div class=\"colab-df-container\">\n",
              "      <div>\n",
              "<style scoped>\n",
              "    .dataframe tbody tr th:only-of-type {\n",
              "        vertical-align: middle;\n",
              "    }\n",
              "\n",
              "    .dataframe tbody tr th {\n",
              "        vertical-align: top;\n",
              "    }\n",
              "\n",
              "    .dataframe thead th {\n",
              "        text-align: right;\n",
              "    }\n",
              "</style>\n",
              "<table border=\"1\" class=\"dataframe\">\n",
              "  <thead>\n",
              "    <tr style=\"text-align: right;\">\n",
              "      <th></th>\n",
              "      <th>Unnamed: 0</th>\n",
              "      <th>NaN</th>\n",
              "      <th>Mean</th>\n",
              "      <th>Std</th>\n",
              "      <th>Min</th>\n",
              "      <th>Max</th>\n",
              "      <th>p_MW_corrected</th>\n",
              "      <th>univar_auc</th>\n",
              "      <th>volume_corr</th>\n",
              "    </tr>\n",
              "  </thead>\n",
              "  <tbody>\n",
              "    <tr>\n",
              "      <th>0</th>\n",
              "      <td>Fractal_average</td>\n",
              "      <td>0</td>\n",
              "      <td>2.755233</td>\n",
              "      <td>0.148151</td>\n",
              "      <td>2.473827</td>\n",
              "      <td>3.209988e+00</td>\n",
              "      <td>1.000000</td>\n",
              "      <td>0.598037</td>\n",
              "      <td>-0.333539</td>\n",
              "    </tr>\n",
              "    <tr>\n",
              "      <th>1</th>\n",
              "      <td>Fractal_lacunarity</td>\n",
              "      <td>0</td>\n",
              "      <td>0.025118</td>\n",
              "      <td>0.010872</td>\n",
              "      <td>0.005735</td>\n",
              "      <td>6.189692e-02</td>\n",
              "      <td>1.000000</td>\n",
              "      <td>0.600000</td>\n",
              "      <td>0.261188</td>\n",
              "    </tr>\n",
              "    <tr>\n",
              "      <th>2</th>\n",
              "      <td>Fractal_sd</td>\n",
              "      <td>0</td>\n",
              "      <td>0.422098</td>\n",
              "      <td>0.078848</td>\n",
              "      <td>0.231447</td>\n",
              "      <td>6.447991e-01</td>\n",
              "      <td>1.000000</td>\n",
              "      <td>0.600835</td>\n",
              "      <td>0.241067</td>\n",
              "    </tr>\n",
              "    <tr>\n",
              "      <th>3</th>\n",
              "      <td>GLCM_autocorr</td>\n",
              "      <td>0</td>\n",
              "      <td>1298.254433</td>\n",
              "      <td>386.732815</td>\n",
              "      <td>266.588471</td>\n",
              "      <td>1.976785e+03</td>\n",
              "      <td>0.440951</td>\n",
              "      <td>0.646074</td>\n",
              "      <td>0.676539</td>\n",
              "    </tr>\n",
              "    <tr>\n",
              "      <th>4</th>\n",
              "      <td>GLCM_average</td>\n",
              "      <td>0</td>\n",
              "      <td>35.043349</td>\n",
              "      <td>6.074889</td>\n",
              "      <td>12.629367</td>\n",
              "      <td>4.441698e+01</td>\n",
              "      <td>1.000000</td>\n",
              "      <td>0.635422</td>\n",
              "      <td>0.677726</td>\n",
              "    </tr>\n",
              "    <tr>\n",
              "      <th>...</th>\n",
              "      <td>...</td>\n",
              "      <td>...</td>\n",
              "      <td>...</td>\n",
              "      <td>...</td>\n",
              "      <td>...</td>\n",
              "      <td>...</td>\n",
              "      <td>...</td>\n",
              "      <td>...</td>\n",
              "      <td>...</td>\n",
              "    </tr>\n",
              "    <tr>\n",
              "      <th>1323</th>\n",
              "      <td>Wavelet_LLL_Stats_range</td>\n",
              "      <td>0</td>\n",
              "      <td>3544.350273</td>\n",
              "      <td>1158.342336</td>\n",
              "      <td>1552.277785</td>\n",
              "      <td>1.280288e+04</td>\n",
              "      <td>1.000000</td>\n",
              "      <td>0.617084</td>\n",
              "      <td>0.682947</td>\n",
              "    </tr>\n",
              "    <tr>\n",
              "      <th>1324</th>\n",
              "      <td>Wavelet_LLL_Stats_rms</td>\n",
              "      <td>0</td>\n",
              "      <td>591.187677</td>\n",
              "      <td>310.121504</td>\n",
              "      <td>116.255732</td>\n",
              "      <td>1.729048e+03</td>\n",
              "      <td>1.000000</td>\n",
              "      <td>0.514620</td>\n",
              "      <td>-0.555857</td>\n",
              "    </tr>\n",
              "    <tr>\n",
              "      <th>1325</th>\n",
              "      <td>Wavelet_LLL_Stats_skewness</td>\n",
              "      <td>0</td>\n",
              "      <td>-1.899758</td>\n",
              "      <td>1.694237</td>\n",
              "      <td>-12.684892</td>\n",
              "      <td>2.195273e+00</td>\n",
              "      <td>1.000000</td>\n",
              "      <td>0.537970</td>\n",
              "      <td>-0.581629</td>\n",
              "    </tr>\n",
              "    <tr>\n",
              "      <th>1326</th>\n",
              "      <td>Wavelet_LLL_Stats_std</td>\n",
              "      <td>0</td>\n",
              "      <td>487.706299</td>\n",
              "      <td>199.261718</td>\n",
              "      <td>77.561006</td>\n",
              "      <td>1.179729e+03</td>\n",
              "      <td>1.000000</td>\n",
              "      <td>0.520718</td>\n",
              "      <td>-0.417745</td>\n",
              "    </tr>\n",
              "    <tr>\n",
              "      <th>1327</th>\n",
              "      <td>Wavelet_LLL_Stats_var</td>\n",
              "      <td>0</td>\n",
              "      <td>277405.728950</td>\n",
              "      <td>215180.552169</td>\n",
              "      <td>6015.709643</td>\n",
              "      <td>1.391761e+06</td>\n",
              "      <td>1.000000</td>\n",
              "      <td>0.520384</td>\n",
              "      <td>-0.417745</td>\n",
              "    </tr>\n",
              "  </tbody>\n",
              "</table>\n",
              "<p>1328 rows × 9 columns</p>\n",
              "</div>\n",
              "      <button class=\"colab-df-convert\" onclick=\"convertToInteractive('df-f36764ef-4447-4016-a0fe-cfc876d01c15')\"\n",
              "              title=\"Convert this dataframe to an interactive table.\"\n",
              "              style=\"display:none;\">\n",
              "        \n",
              "  <svg xmlns=\"http://www.w3.org/2000/svg\" height=\"24px\"viewBox=\"0 0 24 24\"\n",
              "       width=\"24px\">\n",
              "    <path d=\"M0 0h24v24H0V0z\" fill=\"none\"/>\n",
              "    <path d=\"M18.56 5.44l.94 2.06.94-2.06 2.06-.94-2.06-.94-.94-2.06-.94 2.06-2.06.94zm-11 1L8.5 8.5l.94-2.06 2.06-.94-2.06-.94L8.5 2.5l-.94 2.06-2.06.94zm10 10l.94 2.06.94-2.06 2.06-.94-2.06-.94-.94-2.06-.94 2.06-2.06.94z\"/><path d=\"M17.41 7.96l-1.37-1.37c-.4-.4-.92-.59-1.43-.59-.52 0-1.04.2-1.43.59L10.3 9.45l-7.72 7.72c-.78.78-.78 2.05 0 2.83L4 21.41c.39.39.9.59 1.41.59.51 0 1.02-.2 1.41-.59l7.78-7.78 2.81-2.81c.8-.78.8-2.07 0-2.86zM5.41 20L4 18.59l7.72-7.72 1.47 1.35L5.41 20z\"/>\n",
              "  </svg>\n",
              "      </button>\n",
              "      \n",
              "  <style>\n",
              "    .colab-df-container {\n",
              "      display:flex;\n",
              "      flex-wrap:wrap;\n",
              "      gap: 12px;\n",
              "    }\n",
              "\n",
              "    .colab-df-convert {\n",
              "      background-color: #E8F0FE;\n",
              "      border: none;\n",
              "      border-radius: 50%;\n",
              "      cursor: pointer;\n",
              "      display: none;\n",
              "      fill: #1967D2;\n",
              "      height: 32px;\n",
              "      padding: 0 0 0 0;\n",
              "      width: 32px;\n",
              "    }\n",
              "\n",
              "    .colab-df-convert:hover {\n",
              "      background-color: #E2EBFA;\n",
              "      box-shadow: 0px 1px 2px rgba(60, 64, 67, 0.3), 0px 1px 3px 1px rgba(60, 64, 67, 0.15);\n",
              "      fill: #174EA6;\n",
              "    }\n",
              "\n",
              "    [theme=dark] .colab-df-convert {\n",
              "      background-color: #3B4455;\n",
              "      fill: #D2E3FC;\n",
              "    }\n",
              "\n",
              "    [theme=dark] .colab-df-convert:hover {\n",
              "      background-color: #434B5C;\n",
              "      box-shadow: 0px 1px 3px 1px rgba(0, 0, 0, 0.15);\n",
              "      filter: drop-shadow(0px 1px 2px rgba(0, 0, 0, 0.3));\n",
              "      fill: #FFFFFF;\n",
              "    }\n",
              "  </style>\n",
              "\n",
              "      <script>\n",
              "        const buttonEl =\n",
              "          document.querySelector('#df-f36764ef-4447-4016-a0fe-cfc876d01c15 button.colab-df-convert');\n",
              "        buttonEl.style.display =\n",
              "          google.colab.kernel.accessAllowed ? 'block' : 'none';\n",
              "\n",
              "        async function convertToInteractive(key) {\n",
              "          const element = document.querySelector('#df-f36764ef-4447-4016-a0fe-cfc876d01c15');\n",
              "          const dataTable =\n",
              "            await google.colab.kernel.invokeFunction('convertToInteractive',\n",
              "                                                     [key], {});\n",
              "          if (!dataTable) return;\n",
              "\n",
              "          const docLinkHtml = 'Like what you see? Visit the ' +\n",
              "            '<a target=\"_blank\" href=https://colab.research.google.com/notebooks/data_table.ipynb>data table notebook</a>'\n",
              "            + ' to learn more about interactive tables.';\n",
              "          element.innerHTML = '';\n",
              "          dataTable['output_type'] = 'display_data';\n",
              "          await google.colab.output.renderOutput(dataTable, element);\n",
              "          const docLink = document.createElement('div');\n",
              "          docLink.innerHTML = docLinkHtml;\n",
              "          element.appendChild(docLink);\n",
              "        }\n",
              "      </script>\n",
              "    </div>\n",
              "  </div>\n",
              "  "
            ]
          },
          "metadata": {},
          "execution_count": 28
        }
      ]
    },
    {
      "cell_type": "markdown",
      "source": [
        "## Features reduction and selection\n",
        "\n",
        "We will remove columns with NA values and remove features with (near)zero variance, as they do not have value for classification and needlessly increase computation and dimensionality.\n",
        "\n",
        "First, we will deal with the missing (NA) and zero variance values. Should we drop rows or columns of the dataframe?"
      ],
      "metadata": {
        "id": "mjxiXEuFzENo"
      }
    },
    {
      "cell_type": "code",
      "source": [
        "features_non_nan = data_train.dropna(axis=1).columns\n",
        "print ('Number of features without missing values: ', len(features_non_nan))\n",
        "\n",
        "features_non_zero_var = data_train[features_non_nan].loc[:, \n",
        "                                                         data_train[features_non_nan].std() > 0.3].columns\n",
        "print ('Number of features with non-zero variance: ', len(features_non_zero_var))"
      ],
      "metadata": {
        "colab": {
          "base_uri": "https://localhost:8080/"
        },
        "id": "8kX0JElHzXn3",
        "outputId": "ccfc9f7e-3e1e-4d8e-dcf1-cf2979c04df7"
      },
      "execution_count": null,
      "outputs": [
        {
          "output_type": "stream",
          "name": "stdout",
          "text": [
            "Number of features without missing values:  1293\n",
            "Number of features with non-zero variance:  868\n"
          ]
        }
      ]
    },
    {
      "cell_type": "markdown",
      "source": [
        "Removing highly correlated features is a controversial step aimed to reduce the dimensionality of the feature space. Highly correlated features needlessly inflate the dimensionality of feature space. The idea is that highly correlated features can be grouped together and represented by one representative feature.  For features pairs with a high Spearman correlation (r > 0.9) the feature with the highest mean correlation with all remaining features is removed.\n",
        "The opponents to this step argue that just because features are correlated doesn't mean that they don't individually  increase the model's performance. \n",
        "Time to discuss the pro's and con's of this step in more detail!\n",
        "\n",
        "<b>If you have time at the end of today's workshop, the cutoff is certaily a variable that can be played with.</b>"
      ],
      "metadata": {
        "id": "U5IUCHeFzak0"
      }
    },
    {
      "cell_type": "code",
      "source": [
        "def selectNonIntercorrelated(df_in, ftrs, corr_th):\n",
        "    \n",
        "    # selection of the features, which are not 'highly intercorrelated' (correlation is defined by Spearman coefficient);\n",
        "    # pairwise correlation between all the features is calculated, \n",
        "    # from each pair of features, considered as intercorrelated, \n",
        "    # feature with maximum sum of all the pairwise Spearman correlation coefficients is a 'candidate to be dropped'\n",
        "    # for stability of the selected features, bootstrapping approach is used: \n",
        "    # in each bootstrap split, the random subsample, stratified in relation to outcome, \n",
        "    # is formed, based on original observations from input dataset;\n",
        "    # in each bootstrap split, 'candidates to be dropped' are detected;\n",
        "    # for each input feature, its frequency to appear as 'candidate to be dropped' is calculated,\n",
        "    # features, appeared in 50 % of splits as 'candidate to be dropped', are excluded from feature set\n",
        "    \n",
        "    # input:\n",
        "    # df_in - input dataframe, containing feature values (dataframe, columns = features, rows = observations),\n",
        "    # ftrs - list of dataframe features, used in analysis (list of feature names - string variables),\n",
        "    # corr_th - threshold for Spearman correlation coefficient, defining each pair of features as intercorrelated (float)\n",
        "    \n",
        "    # output:\n",
        "    # non_intercorrelated_features - list of names of features, which did not appear as inter-correlated\n",
        "    \n",
        "    corr_matrix = df_in.corr(method='spearman').abs()\n",
        "    mean_absolute_corr = corr_matrix.mean()\n",
        "    intercorrelated_features_set = []\n",
        "    upper = corr_matrix.where(np.triu(np.ones(corr_matrix.shape), k=1).astype(np.bool))\n",
        "    high_corrs = upper.where(upper > corr_th).dropna(how='all', axis=1).dropna(how='all', axis=0)\n",
        "\n",
        "    for feature in high_corrs.columns:\n",
        "        mean_absolute_main = mean_absolute_corr[feature]\n",
        "        correlated_with_feature = high_corrs[feature].index[pd.notnull(high_corrs[feature])]\n",
        "        for each_correlated_feature in correlated_with_feature:\n",
        "            mean_absolute = mean_absolute_corr[each_correlated_feature]\n",
        "            if mean_absolute_main > mean_absolute:\n",
        "                if feature not in intercorrelated_features_set:\n",
        "                    intercorrelated_features_set.append(feature)\n",
        "            else:\n",
        "                if each_correlated_feature not in intercorrelated_features_set:\n",
        "                    intercorrelated_features_set.append(each_correlated_feature)\n",
        "\n",
        "    non_intercorrelated_features_set = [e for e in ftrs if e not in intercorrelated_features_set] \n",
        "    \n",
        "    print ('Non intercorrelated features: ', non_intercorrelated_features_set)\n",
        "    \n",
        "    return non_intercorrelated_features_set"
      ],
      "metadata": {
        "id": "n6b4jVyizlb4"
      },
      "execution_count": null,
      "outputs": []
    },
    {
      "cell_type": "markdown",
      "source": [
        "We will use a threshold of 0.9 for absolute value of Spearmann's correlation."
      ],
      "metadata": {
        "id": "4knIjgI6zpgf"
      }
    },
    {
      "cell_type": "code",
      "source": [
        "features_non_intercorrelated = selectNonIntercorrelated(data_train, features_non_zero_var, 0.9)\n",
        "print ('Number of non-intercorrelated features: ', len(features_non_intercorrelated))"
      ],
      "metadata": {
        "colab": {
          "base_uri": "https://localhost:8080/"
        },
        "id": "sRitM94Czsek",
        "outputId": "9e6df53e-49f8-4559-a388-058b53afc7c5"
      },
      "execution_count": null,
      "outputs": [
        {
          "output_type": "stream",
          "name": "stderr",
          "text": [
            "/usr/local/lib/python3.7/dist-packages/ipykernel_launcher.py:25: DeprecationWarning:\n",
            "\n",
            "`np.bool` is a deprecated alias for the builtin `bool`. To silence this warning, use `bool` by itself. Doing this will not modify any behavior and is safe. If you specifically wanted the numpy scalar type, use `np.bool_` here.\n",
            "Deprecated in NumPy 1.20; for more details and guidance: https://numpy.org/devdocs/release/1.20.0-notes.html#deprecations\n",
            "\n"
          ]
        },
        {
          "output_type": "stream",
          "name": "stdout",
          "text": [
            "Non intercorrelated features:  ['GLCM_clusProm', 'GLDZM_HISDE', 'GLSZM_IV', 'GLSZM_ZE', 'IH_p10', 'IH_skewness', 'NGLDM_DE', 'NGLDM_DV', 'NGLDM_LGLDE', 'Stats_cov', 'Stats_max', 'Stats_median', 'Stats_qcod', 'Wavelet_HHH_GLCM_clusShade', 'Wavelet_HHH_GLDZM_HISDE', 'Wavelet_HHH_GLSZM_IV', 'Wavelet_HHH_NGTDM_complexity', 'Wavelet_HHH_Stats_cov', 'Wavelet_HHH_Stats_kurtosis', 'Wavelet_HHH_Stats_max', 'Wavelet_HHH_Stats_min', 'Wavelet_HHH_Stats_qcod', 'Wavelet_HHH_Stats_rms', 'Wavelet_HHL_GLCM_clusShade', 'Wavelet_HHL_GLDZM_HISDE', 'Wavelet_HHL_GLSZM_IV', 'Wavelet_HHL_IH_medianD', 'Wavelet_HHL_NGTDM_complexity', 'Wavelet_HHL_Stats_cov', 'Wavelet_HHL_Stats_kurtosis', 'Wavelet_HHL_Stats_max', 'Wavelet_HHL_Stats_mean', 'Wavelet_HHL_Stats_median', 'Wavelet_HHL_Stats_min', 'Wavelet_HHL_Stats_qcod', 'Wavelet_HHL_Stats_skewness', 'Wavelet_HHL_Stats_var', 'Wavelet_HLH_GLCM_clusShade', 'Wavelet_HLH_GLDZM_HISDE', 'Wavelet_HLH_GLSZM_IV', 'Wavelet_HLH_IH_p90', 'Wavelet_HLH_IH_skewness', 'Wavelet_HLH_NGTDM_complexity', 'Wavelet_HLH_Stats_cov', 'Wavelet_HLH_Stats_kurtosis', 'Wavelet_HLH_Stats_max', 'Wavelet_HLH_Stats_mean', 'Wavelet_HLH_Stats_median', 'Wavelet_HLH_Stats_min', 'Wavelet_HLH_Stats_qcod', 'Wavelet_HLL_GLCM_clusShade', 'Wavelet_HLL_GLDZM_DZE', 'Wavelet_HLL_GLDZM_HISDE', 'Wavelet_HLL_GLSZM_IV', 'Wavelet_HLL_GLSZM_ZE', 'Wavelet_HLL_IH_minGradI', 'Wavelet_HLL_IH_p90', 'Wavelet_HLL_IH_skewness', 'Wavelet_HLL_NGLDM_DE', 'Wavelet_HLL_NGLDM_DV', 'Wavelet_HLL_NGLDM_HGSDE', 'Wavelet_HLL_NGTDM_complexity', 'Wavelet_HLL_Stats_cov', 'Wavelet_HLL_Stats_max', 'Wavelet_HLL_Stats_mean', 'Wavelet_HLL_Stats_min', 'Wavelet_HLL_Stats_qcod', 'Wavelet_HLL_Stats_range', 'Wavelet_LHH_GLCM_clusShade', 'Wavelet_LHH_GLDZM_DZE', 'Wavelet_LHH_GLDZM_HISDE', 'Wavelet_LHH_GLSZM_IV', 'Wavelet_LHH_IH_p90', 'Wavelet_LHH_NGTDM_complexity', 'Wavelet_LHH_Stats_cov', 'Wavelet_LHH_Stats_kurtosis', 'Wavelet_LHH_Stats_mean', 'Wavelet_LHH_Stats_median', 'Wavelet_LHH_Stats_min', 'Wavelet_LHH_Stats_qcod', 'Wavelet_LHL_GLCM_clusShade', 'Wavelet_LHL_GLDZM_DZE', 'Wavelet_LHL_GLDZM_HISDE', 'Wavelet_LHL_GLSZM_IV', 'Wavelet_LHL_GLSZM_ZE', 'Wavelet_LHL_IH_medianD', 'Wavelet_LHL_IH_skewness', 'Wavelet_LHL_NGLDM_DE', 'Wavelet_LHL_NGLDM_DV', 'Wavelet_LHL_NGTDM_complexity', 'Wavelet_LHL_Stats_cov', 'Wavelet_LHL_Stats_max', 'Wavelet_LHL_Stats_mean', 'Wavelet_LHL_Stats_min', 'Wavelet_LHL_Stats_p90', 'Wavelet_LHL_Stats_qcod', 'Wavelet_LLH_GLCM_clusShade', 'Wavelet_LLH_GLDZM_DZE', 'Wavelet_LLH_GLDZM_HISDE', 'Wavelet_LLH_GLSZM_IV', 'Wavelet_LLH_IH_skewness', 'Wavelet_LLH_NGLDM_HGLDE', 'Wavelet_LLH_NGTDM_complexity', 'Wavelet_LLH_Stats_cov', 'Wavelet_LLH_Stats_max', 'Wavelet_LLH_Stats_mean', 'Wavelet_LLH_Stats_median', 'Wavelet_LLH_Stats_min', 'Wavelet_LLH_Stats_p90', 'Wavelet_LLH_Stats_qcod', 'Wavelet_LLH_Stats_var', 'Wavelet_LLL_GLCM_clusShade', 'Wavelet_LLL_GLDZM_DZE', 'Wavelet_LLL_GLRLM_RE', 'Wavelet_LLL_IH_minGradI', 'Wavelet_LLL_NGLDM_HGSDE', 'Wavelet_LLL_NGTDM_complexity', 'Wavelet_LLL_NGTDM_strength', 'Wavelet_LLL_Stats_cov', 'Wavelet_LLL_Stats_min', 'Wavelet_LLL_Stats_p90', 'Wavelet_LLL_Stats_qcod']\n",
            "Number of non-intercorrelated features:  122\n"
          ]
        }
      ]
    },
    {
      "cell_type": "markdown",
      "source": [
        "We will perform feature selection using Recursive Feature Elimination (RFE). In this step, feature selection is based on the outcome, so simple models are built and those features that contribute the least to the model are removed recursively. Here you can edit the parameters.\n",
        "\n",
        "<b>You might have heard of variable normalization. Why are we not normalizing the variables (e.g. Z-score normalization)?</b>\n",
        "Hint: e.g. https://stackoverflow.com/questions/57339104/is-normalization-necessary-for-randomforest\n",
        "\n",
        "<b>How many features do we need to select with RFE?\n",
        "Time to discuss pros and cons of using many and a little features.</b>  \n",
        "  \n",
        "There are some rules of thumb on how many features we need in the end:  \n",
        "* $int(\\frac{N_{samples}}{10})$ (Abu-Mostafa, Y. S., Magdon-Ismail, M., & Lin, H. T. (2012). Learning from data (Vol. 4, p. 4). New York: AMLBook.)  \n",
        "* $\\sqrt{N_{samples}}$ (Hua, J., Xiong, Z., Lowey, J., Suh, E., & Dougherty, E. R. (2005). Optimal number of features as a function of sample size for various classification rules. Bioinformatics, 21(8), 1509-1515.)"
      ],
      "metadata": {
        "id": "lQ-vBI2QzuxC"
      }
    },
    {
      "cell_type": "code",
      "source": [
        "print ('Nmber of samples in training dataset: ', np.sum(outcome_train))\n",
        "print ('Number of features to select according to Abu-Mostafa: ', int(np.sum(outcome_train)/10))\n",
        "print ('Number of features to select according to Hua: ', int(np.sum(outcome_train)**0.5))"
      ],
      "metadata": {
        "colab": {
          "base_uri": "https://localhost:8080/"
        },
        "id": "8nUlfh620JIt",
        "outputId": "bf0633fd-f053-450e-fd85-119dae95b5f8"
      },
      "execution_count": null,
      "outputs": [
        {
          "output_type": "stream",
          "name": "stdout",
          "text": [
            "Nmber of samples in training dataset:  63\n",
            "Number of features to select according to Abu-Mostafa:  6\n",
            "Number of features to select according to Hua:  7\n"
          ]
        }
      ]
    },
    {
      "cell_type": "markdown",
      "source": [
        "Let's go for the lower number of features since our dataset is not large. Below we implement Recursive Feature Elimination, RFE (https://scikit-learn.org/stable/modules/generated/sklearn.feature_selection.RFE.html), based on Random Forest Classifier, RFC (https://scikit-learn.org/stable/modules/generated/sklearn.ensemble.RandomForestClassifier.html)."
      ],
      "metadata": {
        "id": "ggNVDDIS0j3K"
      }
    },
    {
      "cell_type": "code",
      "source": [
        "estimator = RandomForestClassifier(n_estimators=100, random_state=np.random.seed(0))\n",
        "selector = RFE(estimator, n_features_to_select=6, step=1)\n",
        "selector = selector.fit(data_train[features_non_intercorrelated], outcome_train)"
      ],
      "metadata": {
        "id": "san1UFHv0k8b"
      },
      "execution_count": null,
      "outputs": []
    },
    {
      "cell_type": "markdown",
      "source": [
        "And then select the features 'supported' by the algorithm."
      ],
      "metadata": {
        "id": "8eQ0lfWX0pdA"
      }
    },
    {
      "cell_type": "code",
      "source": [
        "support = selector.get_support()\n",
        "selected_features_set = data_train[features_non_intercorrelated].loc[:, support].columns.tolist()\n",
        "\n",
        "print (selected_features_set)"
      ],
      "metadata": {
        "colab": {
          "base_uri": "https://localhost:8080/"
        },
        "id": "v_XsyJFs0vKe",
        "outputId": "1ba48cc1-caee-4fc8-c9bc-c1517b77fb5b"
      },
      "execution_count": null,
      "outputs": [
        {
          "output_type": "stream",
          "name": "stdout",
          "text": [
            "['NGLDM_DE', 'Stats_median', 'Wavelet_HLH_Stats_kurtosis', 'Wavelet_HLL_Stats_max', 'Wavelet_LLH_IH_skewness', 'Wavelet_LLL_Stats_p90']\n"
          ]
        }
      ]
    },
    {
      "cell_type": "markdown",
      "source": [
        "<b>How many features give the best performance?</b>\n",
        "\n",
        "Time to discuss why we don't just use 100 features!  \n",
        "  \n",
        "The other option could be ranking the features and then building classifier adding +1 feature at every step and checking its performance. We will evaluate the performance with the balanced accuracy score."
      ],
      "metadata": {
        "id": "9sZe7WXF0yuI"
      }
    },
    {
      "cell_type": "code",
      "source": [
        "# ranking the features based on RFE results\n",
        "\n",
        "features_ranks = pd.DataFrame({'Features': features_non_intercorrelated, 'Ranks': selector.ranking_})\n",
        "features_ranks.sort_values(by='Ranks', inplace = True)\n",
        "\n",
        "# taking one best feature first, building the RFC, estimating the performance;\n",
        "# adding +1 next feature, repeating the steps to estimate the performance\n",
        "\n",
        "ftrs_number_tuning = []\n",
        "acc_tuning = []\n",
        "\n",
        "for i in range (1, len(features_ranks)):\n",
        "    \n",
        "    ftrs_number_tuning.append(i)\n",
        "    estimator_tuning = RandomForestClassifier(n_estimators=100, random_state=np.random.seed(0))\n",
        "    estimator_tuning.fit(data_train[features_ranks['Features'][:i]], outcome_train)\n",
        "    outcome_pred_tuning = estimator_tuning.predict(data_test[features_ranks['Features'][:i]])\n",
        "    acc_tuning.append(balanced_accuracy_score(outcome_test, outcome_pred_tuning))\n",
        "    \n",
        "# plotting the results\n",
        "plt.plot(ftrs_number_tuning, acc_tuning)\n",
        "plt.xlabel('Number of features')\n",
        "plt.ylabel('RFC performance')\n",
        "plt.title('RFC performance depending on number of selected features')\n",
        "plt.show()"
      ],
      "metadata": {
        "colab": {
          "base_uri": "https://localhost:8080/",
          "height": 295
        },
        "id": "q5Z6lqOJ2Ii8",
        "outputId": "93119809-2814-4957-a046-e409df7f1492"
      },
      "execution_count": null,
      "outputs": [
        {
          "output_type": "display_data",
          "data": {
            "text/plain": [
              "<Figure size 432x288 with 1 Axes>"
            ],
            "image/png": "[encoded data removed]"
          },
          "metadata": {
            "needs_background": "light"
          }
        }
      ]
    },
    {
      "cell_type": "markdown",
      "source": [
        "What can we conclude from the plot? What are the downsides of the presented implementation? Is it correct to train and evaluate the model on the same samples? Is the selected performance metric correct? What other metrics can we use?\n",
        "\n",
        "## Modeling\n",
        "\n"
      ],
      "metadata": {
        "id": "u-7G-Ks52JVd"
      }
    },
    {
      "cell_type": "markdown",
      "source": [
        "### MODEL 1: RFC\n",
        "\n",
        "We started with RFC while performing RFE, so let us train this model with the selected features and evaluate in on test data.  \n",
        "\n",
        "Training the model (it's possible to vary the parameters):"
      ],
      "metadata": {
        "id": "dw1FY2Z7i5Mc"
      }
    },
    {
      "cell_type": "code",
      "source": [
        "rfc = RandomForestClassifier(n_estimators=100, random_state=np.random.seed(0))\n",
        "rfc.fit(data_train[selected_features_set], outcome_train)"
      ],
      "metadata": {
        "colab": {
          "base_uri": "https://localhost:8080/"
        },
        "id": "26P08OHd2Tl_",
        "outputId": "6d73c8b9-7441-44eb-a09a-a2f8108ccb7d"
      },
      "execution_count": null,
      "outputs": [
        {
          "output_type": "execute_result",
          "data": {
            "text/plain": [
              "RandomForestClassifier()"
            ]
          },
          "metadata": {},
          "execution_count": 37
        }
      ]
    },
    {
      "cell_type": "markdown",
      "source": [
        "Prediction for the testing set:"
      ],
      "metadata": {
        "id": "RKz5JUeC2YAK"
      }
    },
    {
      "cell_type": "code",
      "source": [
        "outcome_pred_rfc = rfc.predict(data_test[selected_features_set])"
      ],
      "metadata": {
        "id": "Tvi88TlB2aR6"
      },
      "execution_count": null,
      "outputs": []
    },
    {
      "cell_type": "markdown",
      "source": [
        "Performance reporting on some key classification scores:"
      ],
      "metadata": {
        "id": "UFGcuGAi2c5_"
      }
    },
    {
      "cell_type": "code",
      "source": [
        "print (classification_report(outcome_test, outcome_pred_rfc))"
      ],
      "metadata": {
        "colab": {
          "base_uri": "https://localhost:8080/"
        },
        "id": "US3QUiD_2l5j",
        "outputId": "132aca45-f238-47b7-9611-01e67311b585"
      },
      "execution_count": null,
      "outputs": [
        {
          "output_type": "stream",
          "name": "stdout",
          "text": [
            "              precision    recall  f1-score   support\n",
            "\n",
            "           0       0.93      0.96      0.94        80\n",
            "           1       0.87      0.77      0.82        26\n",
            "\n",
            "    accuracy                           0.92       106\n",
            "   macro avg       0.90      0.87      0.88       106\n",
            "weighted avg       0.91      0.92      0.91       106\n",
            "\n"
          ]
        }
      ]
    },
    {
      "cell_type": "markdown",
      "source": [
        "Are precision and recall informative metrics? Why don't we report accuracy as a key metric? In which cases accuracy is not suitable scores?  \n",
        "  \n",
        "The other popular metric for classification is Receiver Operating Characteristic (ROC) curve and area under the curve (AUC). We will calculate true positive rates (TPR) and false positive rates (FPR) while varying classification threshold and plot the curve."
      ],
      "metadata": {
        "id": "FxY5UdRS2oA7"
      }
    },
    {
      "cell_type": "code",
      "source": [
        "fpr, tpr, _ = roc_curve(outcome_test, rfc.predict_proba(data_test[selected_features_set])[:, 1])\n",
        "roc_auc = roc_auc_score(outcome_test, rfc.predict_proba(data_test[selected_features_set])[:, 1])\n",
        "\n",
        "plt.plot(fpr, tpr)\n",
        "plt.title('RFC ROC curve (AUC = {})'.format(roc_auc))\n",
        "plt.xlabel('FPR')\n",
        "plt.ylabel('TPR')\n",
        "plt.show()"
      ],
      "metadata": {
        "colab": {
          "base_uri": "https://localhost:8080/",
          "height": 295
        },
        "id": "yZdZn37z2qPQ",
        "outputId": "8a0dc7b0-869a-4ecf-fd8a-2feff821e7bc"
      },
      "execution_count": null,
      "outputs": [
        {
          "output_type": "display_data",
          "data": {
            "text/plain": [
              "<Figure size 432x288 with 1 Axes>"
            ],
            "image/png": "[encoded data removed]"
          },
          "metadata": {
            "needs_background": "light"
          }
        }
      ]
    },
    {
      "cell_type": "markdown",
      "source": [
        "In which cases this metric does not give a correct representation of the model performance? Is AUC always the best metric?\n",
        "Most cetainly not! Especially for unbalanced datasets, AUC can be meaningless. \n",
        "http://www.davidsbatista.net/blog/2018/08/19/NLP_Metrics/\n",
        "\"With imbalanced classes, it’s easy to get a high accuracy without actually making useful predictions. So, accuracy as an evaluation metrics makes sense only if the class labels are uniformly distributed\"    \n",
        "\n",
        "To have a better understanding of model behaviour, we will plot a confusion matrix."
      ],
      "metadata": {
        "id": "QneA8cJZ2sP1"
      }
    },
    {
      "cell_type": "code",
      "source": [
        "cm = confusion_matrix(outcome_test, outcome_pred_rfc)\n",
        "f = sns.heatmap(cm, annot=True)\n",
        "plt.title('Confusion matrix for RFC')\n",
        "plt.show()"
      ],
      "metadata": {
        "colab": {
          "base_uri": "https://localhost:8080/",
          "height": 281
        },
        "id": "HzW4Fgn02xoP",
        "outputId": "4645250b-82f3-4380-bf7e-51c7ac657c7f"
      },
      "execution_count": null,
      "outputs": [
        {
          "output_type": "display_data",
          "data": {
            "text/plain": [
              "<Figure size 432x288 with 2 Axes>"
            ],
            "image/png": "[encoded data removed]"
          },
          "metadata": {
            "needs_background": "light"
          }
        }
      ]
    },
    {
      "cell_type": "markdown",
      "source": [
        "\n",
        "\n",
        "### MODEL 2: XGBoost\n",
        "\n",
        "The second model we will build is XGBoost because recently the algorithm was successfull in many machine learning competitions.\n",
        "\n",
        "<b>XGBoost - what is it? It's always best to understand your models. </b>\n",
        "\n",
        "https://xgboost.readthedocs.io/en/stable/python/python_intro.html#\n",
        "\n",
        "Train the model: Here you can chose the max number of boosting iterations, a balance between computing time and accuracy.\n",
        "\n",
        "Presenting the data in the appropriate format for the library."
      ],
      "metadata": {
        "id": "YETFriH023pW"
      }
    },
    {
      "cell_type": "code",
      "source": [
        "dtrain = xgb.DMatrix(data_train[selected_features_set], label=outcome_train)\n",
        "dtest = xgb.DMatrix(data_test[selected_features_set], label=outcome_test)"
      ],
      "metadata": {
        "id": "zc7V2Uxw3EzF"
      },
      "execution_count": null,
      "outputs": []
    },
    {
      "cell_type": "markdown",
      "source": [
        "Defining the parameters: the learning objective is logistic regression for binary classification with probability output, the metric is the area under precision-recall curve (why not ROC AUC?)."
      ],
      "metadata": {
        "id": "O0F-YNfT3G_Q"
      }
    },
    {
      "cell_type": "code",
      "source": [
        "param = {'objective': 'binary:logistic', 'eval_metric': 'aucpr'}"
      ],
      "metadata": {
        "id": "Mt119Hy83Lv-"
      },
      "execution_count": null,
      "outputs": []
    },
    {
      "cell_type": "markdown",
      "source": [
        "We will train the model on the training set and evaluate on test set."
      ],
      "metadata": {
        "id": "JsilJkzb3Ohc"
      }
    },
    {
      "cell_type": "code",
      "source": [
        "evallist = [(dtest, 'eval'), (dtrain, 'train')]"
      ],
      "metadata": {
        "id": "l5Vdwp5n3Q3k"
      },
      "execution_count": null,
      "outputs": []
    },
    {
      "cell_type": "markdown",
      "source": [
        "Training the model (number of iterations can be changed here!) and calculating outcomes for the test set."
      ],
      "metadata": {
        "id": "jVkWe4n53Sq1"
      }
    },
    {
      "cell_type": "code",
      "source": [
        "num_round = 10\n",
        "bst = xgb.train(param, dtrain, num_round, evallist)\n",
        "\n",
        "outcome_pred_xgb = bst.predict(dtest)"
      ],
      "metadata": {
        "colab": {
          "base_uri": "https://localhost:8080/"
        },
        "id": "JjSYef5k3Vm7",
        "outputId": "cdfe7587-e978-49cd-c4e6-3c75e98462a4"
      },
      "execution_count": null,
      "outputs": [
        {
          "output_type": "stream",
          "name": "stdout",
          "text": [
            "[0]\teval-aucpr:0.697929\ttrain-aucpr:0.953898\n",
            "[1]\teval-aucpr:0.764319\ttrain-aucpr:0.980132\n",
            "[2]\teval-aucpr:0.767598\ttrain-aucpr:0.979338\n",
            "[3]\teval-aucpr:0.790915\ttrain-aucpr:0.986088\n",
            "[4]\teval-aucpr:0.820544\ttrain-aucpr:0.988672\n",
            "[5]\teval-aucpr:0.812882\ttrain-aucpr:0.992044\n",
            "[6]\teval-aucpr:0.824588\ttrain-aucpr:0.993079\n",
            "[7]\teval-aucpr:0.820482\ttrain-aucpr:0.99654\n",
            "[8]\teval-aucpr:0.817885\ttrain-aucpr:0.996786\n",
            "[9]\teval-aucpr:0.817246\ttrain-aucpr:0.998533\n"
          ]
        }
      ]
    },
    {
      "cell_type": "markdown",
      "source": [
        "Classification report:"
      ],
      "metadata": {
        "id": "FsKuk8pI3YPf"
      }
    },
    {
      "cell_type": "code",
      "source": [
        "print (classification_report(outcome_test, outcome_pred_xgb>0.5))"
      ],
      "metadata": {
        "colab": {
          "base_uri": "https://localhost:8080/"
        },
        "id": "Kk4JUhKk3bKc",
        "outputId": "04ea96f6-e3c4-4133-d965-73a01e6fdf59"
      },
      "execution_count": null,
      "outputs": [
        {
          "output_type": "stream",
          "name": "stdout",
          "text": [
            "              precision    recall  f1-score   support\n",
            "\n",
            "           0       0.93      0.95      0.94        80\n",
            "           1       0.83      0.77      0.80        26\n",
            "\n",
            "    accuracy                           0.91       106\n",
            "   macro avg       0.88      0.86      0.87       106\n",
            "weighted avg       0.90      0.91      0.90       106\n",
            "\n"
          ]
        }
      ]
    },
    {
      "cell_type": "markdown",
      "source": [
        "ROC and ROC AUC:"
      ],
      "metadata": {
        "id": "MXlktROy3c7b"
      }
    },
    {
      "cell_type": "code",
      "source": [
        "fpr, tpr, _ = roc_curve(outcome_test, outcome_pred_xgb)\n",
        "roc_auc = roc_auc_score(outcome_test, outcome_pred_xgb)\n",
        "\n",
        "plt.plot(fpr, tpr)\n",
        "plt.title('XGBoost ROC curve (AUC = {})'.format(roc_auc))\n",
        "plt.show()"
      ],
      "metadata": {
        "colab": {
          "base_uri": "https://localhost:8080/",
          "height": 281
        },
        "id": "2Kg5dlpk3gEd",
        "outputId": "91d3af43-9939-4cba-88e6-25983d9468db"
      },
      "execution_count": null,
      "outputs": [
        {
          "output_type": "display_data",
          "data": {
            "text/plain": [
              "<Figure size 432x288 with 1 Axes>"
            ],
            "image/png": "[encoded data removed]"
          },
          "metadata": {
            "needs_background": "light"
          }
        }
      ]
    },
    {
      "cell_type": "markdown",
      "source": [
        "Create and display the confusion matrix and derived values for the Xgboost model."
      ],
      "metadata": {
        "id": "TeaigfZW3iXE"
      }
    },
    {
      "cell_type": "code",
      "source": [
        "cm = confusion_matrix(outcome_test, outcome_pred_xgb>0.5)\n",
        "f = sns.heatmap(cm, annot=True)"
      ],
      "metadata": {
        "colab": {
          "base_uri": "https://localhost:8080/",
          "height": 265
        },
        "id": "HtPhR7Jx33CP",
        "outputId": "de89b1be-8297-471f-b1ab-f1f8027ecdb5"
      },
      "execution_count": null,
      "outputs": [
        {
          "output_type": "display_data",
          "data": {
            "text/plain": [
              "<Figure size 432x288 with 2 Axes>"
            ],
            "image/png": "[encoded data removed]"
          },
          "metadata": {
            "needs_background": "light"
          }
        }
      ]
    },
    {
      "cell_type": "markdown",
      "source": [
        "<b>Almost done! You will now compare the performance of the models.</b>\n",
        "  \n",
        "Which classifier is better?  \n",
        "\n",
        "To compare ROC AUC scores, we will perform a permuation test for the probabilities obtained on the test set for the both classifiers."
      ],
      "metadata": {
        "id": "UJpHgmIW36hA"
      }
    },
    {
      "cell_type": "code",
      "source": [
        "# adapted from https://stackoverflow.com/questions/52373318/how-to-compare-roc-auc-scores-of-different-binary-classifiers\n",
        "#-and-assess-statist\n",
        "\n",
        "def permutation_test_between_clfs(y_test, pred_proba_1, pred_proba_2, nsamples=100):\n",
        "    auc_differences = []\n",
        "    auc1 = roc_auc_score(y_test.ravel(), pred_proba_1.ravel())\n",
        "    auc2 = roc_auc_score(y_test.ravel(), pred_proba_2.ravel())\n",
        "    observed_difference = auc1 - auc2\n",
        "    for _ in range(nsamples):\n",
        "        mask = np.random.randint(2, size=len(pred_proba_1.ravel()))\n",
        "        p1 = np.where(mask, pred_proba_1.ravel(), pred_proba_2.ravel())\n",
        "        p2 = np.where(mask, pred_proba_2.ravel(), pred_proba_1.ravel())\n",
        "        auc1 = roc_auc_score(y_test.ravel(), p1)\n",
        "        auc2 = roc_auc_score(y_test.ravel(), p2)\n",
        "        auc_differences.append(auc1 - auc2)\n",
        "    return observed_difference, np.mean(auc_differences >= observed_difference)\n",
        "\n",
        "print ('Difference, p-value: ', \n",
        "       permutation_test_between_clfs(outcome_test,\n",
        "                                     outcome_pred_xgb,\n",
        "                                     rfc.predict_proba(data_test[selected_features_set])[:,1]))"
      ],
      "metadata": {
        "colab": {
          "base_uri": "https://localhost:8080/"
        },
        "id": "0fu8MAO44AP8",
        "outputId": "8a736195-bf1f-456b-cbe9-3c0ab9b31b5c"
      },
      "execution_count": null,
      "outputs": [
        {
          "output_type": "stream",
          "name": "stdout",
          "text": [
            "Difference, p-value:  (-0.00024038461538467004, 0.52)\n"
          ]
        }
      ]
    },
    {
      "cell_type": "markdown",
      "source": [
        "After this test, which classifier is better?  \n",
        "  \n",
        "After this you can go back and \"finetune\" the models by changing the parameters you feel comfortable with. See you can increase the model performance. Can you beat the othr groups?"
      ],
      "metadata": {
        "id": "xmqNYAaL4J8D"
      }
    }
  ]
}